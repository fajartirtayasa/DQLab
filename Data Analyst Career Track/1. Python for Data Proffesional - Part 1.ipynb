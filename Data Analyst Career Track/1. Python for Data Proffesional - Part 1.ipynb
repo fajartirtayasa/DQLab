{
 "cells": [
  {
   "cell_type": "markdown",
   "id": "df5818df",
   "metadata": {},
   "source": [
    "# Python for Data Proffesional - Part 1"
   ]
  },
  {
   "cell_type": "markdown",
   "id": "bf8b1d72",
   "metadata": {},
   "source": [
    "## [Mari Mengenal Python]"
   ]
  },
  {
   "cell_type": "markdown",
   "id": "ed15b622",
   "metadata": {},
   "source": [
    "### Apa dan Kenapa Python\n",
    "Python adalah bahasa pemrograman yang ditujukan untuk general-purpose programming dan termasuk dalam kategori high-level programming language. Sebagai **general-purpose programming language**, Python digunakan untuk berbagai macam permasalahan seperti: pengembangan aplikasi web ataupun mobile, data science, dll.\n",
    "\n",
    "Python masuk ke dalam kategori **high-level programming language** dikarenakan bahasa pemrograman Python yang mudah untuk dibaca dan dituliskan oleh manusia.\n",
    "\n",
    "Bahasa  pemrograman  Python  diciptakan  oleh Guido van Rossum dan pertama kali diperkenalkan pada tahun 1991 sebagai sebuah proyek open-source. Sifat open-source dari Python mengartikan bahwa setiap orang dapat mengembangkan program komputer dengan menggunakan bahasa pemrograman Python baik untuk tujuan komersil/non-komersil."
   ]
  },
  {
   "cell_type": "markdown",
   "id": "3c0b03f1",
   "metadata": {},
   "source": [
    "Bahasa pemrograman Python bersifat **dynamically typed** (Python akan secara otomatis mengubah masukan dari pengguna) dan mendukung berbagai paradigma pemrograman baik pemrograman secara **prosedural**, berbasis objek (**Object-Oriented**), ataupun **fungsional**.\n",
    "\n",
    "Selain alasan di atas terdapat beberapa alasan lain untuk menggunakan bahasa pemrograman Python:\n",
    "1. Python dikembangkan untuk bersifat extendible yang mengartikan bahwa Python dapat dikembangkan untuk berbagai macam tugas baik untuk pembuatan aplikasi web ataupun desktop, proses analisis data, dll.\n",
    "2. Python memiliki komunitas yang besar yang secara aktif berkontribusi untuk menyediakan berbagai macam fungsionalitas (third-party libraries). Third-party libraries yang tersedia dalam bahasa pemrograman Python memungkinkan para pengembang untuk dapat fokus menyelesaikan permasalahan yang ada. Per Januari 2020, terdapat 214,922 modul third-party yang dapat kita gunakan secara cuma-cuma.\n",
    "3. Python terintegrasi dengan baik dengan berbagai macam bahasa pemrograman dan layanan enterprise. Untuk bagian-bagian yang melibatkan sumber daya komputasi yang besar, pengembang dapat menggunakan fungsionalitas dalam bahasa pemrograman lainnya yang bersifat low-level yang telah dikemas ke dalam fungsionalitas Python.\n"
   ]
  },
  {
   "cell_type": "markdown",
   "id": "f95a23da",
   "metadata": {},
   "source": [
    "### Struktur Program Python - Part 1\n",
    "**Statements**: Instruksi yang diberikan secara baris per baris untuk dijalankan oleh mesin. Contoh:"
   ]
  },
  {
   "cell_type": "code",
   "execution_count": 1,
   "id": "30939a61",
   "metadata": {},
   "outputs": [
    {
     "name": "stdout",
     "output_type": "stream",
     "text": [
      "Belajar Python menyenangkan\n",
      "Halo Dunia\n",
      "Hello World!\n"
     ]
    }
   ],
   "source": [
    "print(\"Belajar Python menyenangkan\") \n",
    "print(\"Halo Dunia\")\n",
    "print(\"Hello World!\")"
   ]
  },
  {
   "cell_type": "markdown",
   "id": "39ddb818",
   "metadata": {},
   "source": [
    "**Variables**: Lokasi penyimpanan yang dapat digunakan untuk menampung sebuah data atau informasi. Contoh: aku mempunyai variabel yang bernama bilangan1, bilangan2, dan kalimat1"
   ]
  },
  {
   "cell_type": "code",
   "execution_count": 2,
   "id": "0b1a64f5",
   "metadata": {},
   "outputs": [],
   "source": [
    "bilangan1 = 5\n",
    "bilangan2 = 10\n",
    "kalimat1 = \"Belajar Bahasa Python\""
   ]
  },
  {
   "cell_type": "markdown",
   "id": "7f45df67",
   "metadata": {},
   "source": [
    "**Literals**: Simbol-simbol yang dapat kita gunakan untuk mengisi suatu variabel. Pada kode yang telah dicontohkan di atas, angka 5 dan 10 serta 'Belajar Bahasa Python' disebut sebagai literal."
   ]
  },
  {
   "cell_type": "markdown",
   "id": "a1537c60",
   "metadata": {},
   "source": [
    "**Operators**: Simbol-simbol yang dapat digunakan untuk mengubah nilai dari satu variabel dengan melibatkan satu atau lebih variabel dan literal. Contoh: Tanda + merupakan salah satu contoh operator. Dengan menggunakan tanda +, aku berhasil menambahkan isi dari bilangan1 dan bilangan2!"
   ]
  },
  {
   "cell_type": "code",
   "execution_count": 3,
   "id": "9a37bdd3",
   "metadata": {},
   "outputs": [
    {
     "name": "stdout",
     "output_type": "stream",
     "text": [
      "15\n"
     ]
    }
   ],
   "source": [
    "print(bilangan1 + bilangan2)"
   ]
  },
  {
   "cell_type": "markdown",
   "id": "dae14aae",
   "metadata": {},
   "source": [
    "### Struktur Program Python - Part 2\n",
    "**Reserved Words**: Kumpulan kata-kata yang memiliki makna khusus dalam bahasa pemrograman Python. Kata False, return, dan for merupakan contoh dari reserved words.\n",
    "Catatan: Ternyata, aku tidak dapat mendeklarasikan variabel dengan menggunakan sebuah reserved word!"
   ]
  },
  {
   "cell_type": "markdown",
   "id": "c1ea9713",
   "metadata": {},
   "source": [
    "**Whitespace**: Pada bahasa Python, spasi dan tab memiliki makna khusus untuk menandai serangkaian blok dalam kode Python. Hal ini akan dijelaskan secara lebih lanjut pada bagian struktur pemilihan dan struktur pengulangan pada bahasa Python."
   ]
  },
  {
   "cell_type": "markdown",
   "id": "ac0ec54e",
   "metadata": {},
   "source": [
    "**Comments**: Comments merupakan sekumpulan teks yang dituliskan di dalam sebuah program yang tidak akan mempengaruhi hasil dari sebuah program. Walaupun tidak mempengaruhi hasil program, comments merupakan salah satu komponen yang penting dalam pengembangan program. Hal tersebut dikarenakan comments dapat diselipkan di antara sekumpulan statements yang telah dituliskan, untuk berkomunikasi dengan rekan programmer lainnya dalam satu tim."
   ]
  },
  {
   "cell_type": "markdown",
   "id": "36e29991",
   "metadata": {},
   "source": [
    "## [Python Variables & Data Types]"
   ]
  },
  {
   "cell_type": "markdown",
   "id": "e9df2ecd",
   "metadata": {},
   "source": [
    "### Aturan Penamaan Python Variables\n",
    "Penamaan suatu variabel pada python dapat dikatakan valid selama memenuhi aturan-aturan berikut:\n",
    "1. Nama dari sebuah variabel harus dimulai dengan huruf (a-z, A-Z) atau karakter garis bawah underscore (_) dan tidak dapat dimulai dengan angka (0-9).\n",
    "2. Variabel hanya boleh mengandung karakter alfabet, bilangan dan underscore (a-z, A-Z, 0-9, _)\n",
    "3. Variabel bersifat case-sensitive yang mengartikan bahwa variabel TINGGI, tinggi, dan Tinggi merujuk pada tiga variabel berbeda.\n",
    "\n",
    "### Tipe Data Dasar: Null, Boolean, Numeric, Text\n",
    "1. Null Type: Tipe data null dalam Python digunakan untuk menyimpan nilai kosong atau tidak ada yang dinyatakan dengan None.\n",
    "2. Boolean Type: Tipe data boolean atau bool digunakan untuk menyimpan nilai kebenaran (True, False) dari suatu ekspresi logika.\n",
    "3. Numeric Type: Tipe data yang digunakan untuk menyimpan data berupa angka. Terdapat dua macam tipe data numeric, yaitu int untuk menyimpan bilangan bulat (e.g.: 0, 1, 2, 404, -500, -1000) dan float untuk menyimpan bilangan riil (e.g.: 0.5, 1.01, 2.05, 4.04)\n",
    "4. Text Type: Pada Python, tipe data string (str) digunakan untuk menyimpan data teks. Tipe data string dimulai dengan tanda kutip (baik kutip satu/ dua) dan diakhir dengan tanda kutip. Contoh: \"Teks\", \"Contoh teks menggunakan Python\", dan 'Teks pada Python'."
   ]
  },
  {
   "cell_type": "markdown",
   "id": "9f2d7e62",
   "metadata": {},
   "source": [
    "### Sequence Types\n",
    "Tipe data ini digunakan untuk menampung sekumpulan data secara terorganisir.\n",
    "Bentuk dari tipe data sequence ini adalah List dan Tuple.\n",
    "\n",
    "#### List\n",
    "Tipe data list diawali dengan tanda kurung siku buka ( [ ), memisahkan setiap elemen di dalamnya dengan tanda koma ( , ) dan ditutup dengan kurung siku tutup ( ] )\n",
    "\n",
    "Setiap elemen dari list memiliki indeks yang dimulai dari angka 0 dan terus bertambah satu nilainya hingga elemen terakhir dari list. Tipe data list bersifat **mutable** yang berarti setiap elemen di dalam list dapat dirubah nilainya setelah proses pendeklarasian list."
   ]
  },
  {
   "cell_type": "code",
   "execution_count": 4,
   "id": "4fa5caf4",
   "metadata": {},
   "outputs": [
    {
     "name": "stdout",
     "output_type": "stream",
     "text": [
      "1\n",
      "4.0\n",
      "empat\n"
     ]
    }
   ],
   "source": [
    "contoh_list = [1, 'dua', 3, 4.0, 5]\n",
    "print(contoh_list[0])\n",
    "print(contoh_list[3])\n",
    "contoh_list = [1, 'dua', 3, 4.0, 5]\n",
    "contoh_list[3] = 'empat'\n",
    "print(contoh_list[3])"
   ]
  },
  {
   "cell_type": "markdown",
   "id": "01f9ca03",
   "metadata": {},
   "source": [
    "#### Tuple\n",
    "Tipe data tuple juga berfungsi untuk menampung sekumpulan data. Tipe data ini diawali dengan tanda kurung buka ( ( ), memisahkan setiap elemen di dalamnya dengan tanda koma ( , ) dan ditutup dengan tanda kurung tutup ( ) ). \n",
    "\n",
    "Aturan indeks dan cara mengakses elemen pada sebuah tuple serupa dengan list. Berbeda dengan tipe data list, tipe data tuple bersifat **immutable** yang berarti elemen pada tipe data tuple tidak dapat diubah setelah proses pendeklarasiannya. "
   ]
  },
  {
   "cell_type": "code",
   "execution_count": 5,
   "id": "37a110be",
   "metadata": {},
   "outputs": [
    {
     "name": "stdout",
     "output_type": "stream",
     "text": [
      "Januari\n"
     ]
    },
    {
     "ename": "TypeError",
     "evalue": "'tuple' object does not support item assignment",
     "output_type": "error",
     "traceback": [
      "\u001b[1;31m---------------------------------------------------------------------------\u001b[0m",
      "\u001b[1;31mTypeError\u001b[0m                                 Traceback (most recent call last)",
      "\u001b[1;32m~\\AppData\\Local\\Temp/ipykernel_15876/1333596474.py\u001b[0m in \u001b[0;36m<module>\u001b[1;34m\u001b[0m\n\u001b[0;32m      2\u001b[0m \u001b[0mprint\u001b[0m\u001b[1;33m(\u001b[0m\u001b[0mcontoh_tuple\u001b[0m\u001b[1;33m[\u001b[0m\u001b[1;36m0\u001b[0m\u001b[1;33m]\u001b[0m\u001b[1;33m)\u001b[0m\u001b[1;33m\u001b[0m\u001b[1;33m\u001b[0m\u001b[0m\n\u001b[0;32m      3\u001b[0m \u001b[0mcontoh_tuple\u001b[0m \u001b[1;33m=\u001b[0m \u001b[1;33m(\u001b[0m\u001b[1;34m'Januari'\u001b[0m\u001b[1;33m,\u001b[0m \u001b[1;34m'Februari'\u001b[0m\u001b[1;33m,\u001b[0m \u001b[1;34m'Maret'\u001b[0m\u001b[1;33m,\u001b[0m \u001b[1;34m'April'\u001b[0m\u001b[1;33m)\u001b[0m\u001b[1;33m\u001b[0m\u001b[1;33m\u001b[0m\u001b[0m\n\u001b[1;32m----> 4\u001b[1;33m \u001b[0mcontoh_tuple\u001b[0m\u001b[1;33m[\u001b[0m\u001b[1;36m0\u001b[0m\u001b[1;33m]\u001b[0m \u001b[1;33m=\u001b[0m \u001b[1;34m'Desember'\u001b[0m\u001b[1;33m\u001b[0m\u001b[1;33m\u001b[0m\u001b[0m\n\u001b[0m",
      "\u001b[1;31mTypeError\u001b[0m: 'tuple' object does not support item assignment"
     ]
    }
   ],
   "source": [
    "contoh_tuple = ('Januari', 'Februari', 'Maret', 'April')\n",
    "print(contoh_tuple[0])\n",
    "contoh_tuple = ('Januari', 'Februari', 'Maret', 'April')\n",
    "contoh_tuple[0] = 'Desember'"
   ]
  },
  {
   "cell_type": "markdown",
   "id": "0be86a13",
   "metadata": {},
   "source": [
    "### Set Type\n",
    "Serupa dengan tipe data sequence, tipe data set digunakan untuk menampung sekumpulan data dengan tipe lainnya. Terdapat dua jenis dari tipe data set yaitu, set dan frozenset.\n",
    "\n",
    "Tipe data set diawali dengan tanda kurung buka kurawal ( { ), memisahkan setiap elemen di dalamnya dengan tanda koma ( , ) dan ditutup dengan tanda kurung tutup ( } ). Namun berbeda dengan tipe data sequence, seperti list, tipe data objek tidak mengizinkan adanya elemen dengan nilai yang sama dan tidak memperdulikan urutan dari elemen."
   ]
  },
  {
   "cell_type": "code",
   "execution_count": 6,
   "id": "1a542b97",
   "metadata": {},
   "outputs": [
    {
     "name": "stdout",
     "output_type": "stream",
     "text": [
      "['Dewi', 'Budi', 'Cici', 'Linda', 'Cici']\n",
      "{'Cici', 'Linda', 'Budi', 'Dewi'}\n"
     ]
    }
   ],
   "source": [
    "contoh_list = ['Dewi', 'Budi', 'Cici', 'Linda', 'Cici']\n",
    "print(contoh_list)\n",
    "contoh_set = {'Dewi', 'Budi', 'Cici', 'Linda', 'Cici'}\n",
    "print(contoh_set)"
   ]
  },
  {
   "cell_type": "markdown",
   "id": "6a58e349",
   "metadata": {},
   "source": [
    "Dari kedua contoh output pada program, dapat terlihat:\n",
    "1. Berbeda dengan tipe data set, tipe data list memperdulikan urutan dari setiap elemen saat list dideklarasikan.\n",
    "2. Berbeda dengan list yang mengizinkan adanya duplikasi elemen, tipe data set **tidak mengizinkan adanya elemen dengan nilai yang sama di dalamnya**.\n",
    "\n",
    "Bagaimana dengan tipe data **frozenset**? Tipe data frozenset sebenarnya hanya merupakan set yang bersifat immutable, yang artinya setiap elemen di dalam frozenset tidak dapat diubah setelah proses deklarasinya. Untuk membuat tipe data frozenset, aku dapat merujuk potongan kode di bawah ini."
   ]
  },
  {
   "cell_type": "code",
   "execution_count": 7,
   "id": "cb443094",
   "metadata": {},
   "outputs": [
    {
     "name": "stdout",
     "output_type": "stream",
     "text": [
      "{'Cici', 'Linda', 'Budi', 'Dewi'}\n"
     ]
    }
   ],
   "source": [
    "contoh_frozen_set = ({'Dewi', 'Budi', 'Cici', 'Linda', 'Cici'})\n",
    "print(contoh_frozen_set)"
   ]
  },
  {
   "cell_type": "markdown",
   "id": "ac6c03cc",
   "metadata": {},
   "source": [
    "### Mapping Type\n",
    "Tipe data mapping dapat digunakan untuk memetakan sebuah nilai ke nilai lainnya. Dalam Python, tipe data mapping disebut dengan istilah dictionary. Tipe data dictionary dapat dideklarasikan dengan diawali oleh tanda kurung buka kurawal ( { ), memisahkan setiap elemen di dalamnya dengan tanda koma ( , ) dan ditutup dengan tanda kurung tutup ( } ). Setiap elemen pada tipe data dictionary dideklarasikan dengan format:\n",
    "\n",
    "\"kunci\" : \"nilai\""
   ]
  },
  {
   "cell_type": "code",
   "execution_count": 8,
   "id": "53719454",
   "metadata": {},
   "outputs": [
    {
     "name": "stdout",
     "output_type": "stream",
     "text": [
      "John Doe\n",
      "Programmer\n"
     ]
    }
   ],
   "source": [
    "person = {'nama':'John Doe', 'pekerjaan':'Programmer'}\n",
    "print(person['nama'])\n",
    "print(person['pekerjaan'])"
   ]
  },
  {
   "cell_type": "markdown",
   "id": "03599e84",
   "metadata": {},
   "source": [
    "## [Python Operators]"
   ]
  },
  {
   "cell_type": "markdown",
   "id": "39782ffe",
   "metadata": {},
   "source": [
    "### Arithmetic Operators\n",
    "Operator arithmetic digunakan pada tipe data numerik, untuk melakukan operasi matematika sederhana yang terdiri atas:\n",
    "\n",
    "1. Simbol Operator Keterangan Contoh\n",
    "2. (+) Penambahan 3 + 2 akan menghasilkan output: 5\n",
    "3. (-) Pengurangan 4 - 2 akan menghasilkan output: 2\n",
    "4. () Perkalian 3 2 akan menghasilkan output: 6\n",
    "5. (/) Pembagian 3 / 2 akan menghasilkan output: 1.5\n",
    "6. (%) Modulo/sisa bagi 3 % 2 akan menghasilkan output: 1 dikarenakan 3 tidak habis dibagi 2 dan menyisakan 1 8 % 2 akan menghasilkan output: 0 dikarenakan 8 habis dibagi 2\n",
    "7. () Pangkat 3 2 akan menghasilkan output: 9\n",
    "8. (//) Pembagian dengan pembulatan ke bawah 3 / 2 akan menghasilkan output: 1 dikarenakan 1.5 akan menjadi 1 saat dibulatkan ke bawah.\n",
    "\n",
    "### Assignment Operators\n",
    "Operator assignment digunakan untuk mendeklarasikan nilai secara langsung ke suatu variabel.\n",
    "1. (+=) Penambahan\n",
    "2. (-=) Pengurangan\n",
    "3. (*=) Perkalian\n",
    "4. (/=) Pembagian\n",
    "5. (%=) Modulo/sisa bagi\n",
    "6. (**=) Pangkat\n",
    "7. (//=) Pembagian dengan pembulatan ke bawah"
   ]
  },
  {
   "cell_type": "code",
   "execution_count": 9,
   "id": "ced79a55",
   "metadata": {},
   "outputs": [
    {
     "name": "stdout",
     "output_type": "stream",
     "text": [
      "2\n"
     ]
    }
   ],
   "source": [
    "bil1 = 5\n",
    "bil2 = bil1 // 2\n",
    "print(bil2)"
   ]
  },
  {
   "cell_type": "code",
   "execution_count": 10,
   "id": "84d0cc44",
   "metadata": {},
   "outputs": [
    {
     "name": "stdout",
     "output_type": "stream",
     "text": [
      "5\n"
     ]
    }
   ],
   "source": [
    "bil1 = 5\n",
    "bil2 = bil1 % 2\n",
    "bil1 *= bil2\n",
    "print(bil1)"
   ]
  },
  {
   "cell_type": "markdown",
   "id": "43c87395",
   "metadata": {},
   "source": [
    "### Comparison Operators\n",
    "Operator comparison dapat digunakan untuk membandingkan dua buah nilai, berikut merupakan contoh-contoh operator komparasi.\n",
    "1. (==) Persamaan\n",
    "2. (!=) Pertidaksamaan\n",
    "3. (>) Lebih besar dari\n",
    "4. (<) Lebih kecil dari\n",
    "5. (>=) Lebih besar atau sama dengan\n",
    "6. (<=) Lebih kecil atau sama dengan\n",
    "\n",
    "### Logical Operators\n",
    "Operator logical digunakan untuk menggabungkan beberapa nilai kebenaran atas suatu statemen logika\n",
    "1. (and) dan - menerima dua nilai kebenaran dan mengembalikan nilai benar jika keduanya benar\n",
    "2. (or) atau - menerima dua nilai kebenaran dan mengembalikan nilai benar jika salah satu benar\n",
    "3. (not) negasi - menerima sebuah nilai kebenaran dan mengembalikan komplemennya "
   ]
  },
  {
   "cell_type": "code",
   "execution_count": 11,
   "id": "81c0a1c1",
   "metadata": {},
   "outputs": [
    {
     "data": {
      "text/plain": [
       "False"
      ]
     },
     "execution_count": 11,
     "metadata": {},
     "output_type": "execute_result"
    }
   ],
   "source": [
    "x = 5\n",
    "x >= 1 and x <= 4"
   ]
  },
  {
   "cell_type": "code",
   "execution_count": 12,
   "id": "dd982f2a",
   "metadata": {},
   "outputs": [
    {
     "name": "stdout",
     "output_type": "stream",
     "text": [
      "True\n"
     ]
    }
   ],
   "source": [
    "bil1 = 5\n",
    "bil2 = 10\n",
    "print(bil2 > bil1 and bil2 < 15)"
   ]
  },
  {
   "cell_type": "code",
   "execution_count": 13,
   "id": "8d330e80",
   "metadata": {},
   "outputs": [
    {
     "name": "stdout",
     "output_type": "stream",
     "text": [
      "False\n"
     ]
    }
   ],
   "source": [
    "bil1 = 5\n",
    "bil2 = bil1 // 2\n",
    "hasil = bil1 <= bil2 or bil1 ==2\n",
    "print(hasil)"
   ]
  },
  {
   "cell_type": "markdown",
   "id": "44e53dca",
   "metadata": {},
   "source": [
    "### Identity Operators\n",
    "Operator identitas dapat digunakan untuk membandingkan identitas dari dua buah variabel.\n",
    "1. (is) Menerima dua buah objek dan mengembalikan nilai True ketika keduanya merujuk pada objek yang sama dan False dalam kondisi lainnya\n",
    "        x = [\"Ani\", \"Budi\"]\n",
    "        y = [\"Ani\", \"Budi\"]\n",
    "        a = x\n",
    "        print(a is x) akan menampilkan nilai True dikarenakan a dan x merujuk ke objek yang sama.\n",
    "        print(a is y) akan menampilkan nilai False dikarenakan a dan y tidak merujuk ke objek yang sama meski isinya sama.\n",
    "2. (is not) Menerima dua buah objek dan mengembalikan nilai True ketika keduanya merujuk pada objek yang berbeda dan False jika sama\n",
    "        x = [\"Ani\", \"Budi\"]\n",
    "        y = [\"Ani\", \"Budi\"]\n",
    "        a = x\n",
    "        print(a is not x) akan menampilkan nilai False dikarenakan a dan x merujuk ke objek yang sama\n",
    "        print(a is not y) akan menampilkan nilai True dikarenakan a dan y tidak merujuk ke objek yang sama\n",
    "\n",
    "Pada umumnya, operator identitas sering digunakan bersamaan dengan fungsi type(), fungsi type() menerima sebuah objek dan mengembalikan tipe data dari objek tersebut. Contoh penggunaan operator identitas dan fungsi type()."
   ]
  },
  {
   "cell_type": "code",
   "execution_count": 14,
   "id": "56815d5e",
   "metadata": {},
   "outputs": [
    {
     "name": "stdout",
     "output_type": "stream",
     "text": [
      "True\n"
     ]
    }
   ],
   "source": [
    "x = 10\n",
    "print(type(x) is int)"
   ]
  },
  {
   "cell_type": "code",
   "execution_count": 15,
   "id": "e6442ed5",
   "metadata": {},
   "outputs": [
    {
     "name": "stdout",
     "output_type": "stream",
     "text": [
      "False\n"
     ]
    }
   ],
   "source": [
    "x /= 3\n",
    "print(type(x) is int)"
   ]
  },
  {
   "cell_type": "markdown",
   "id": "aa1044d8",
   "metadata": {},
   "source": [
    "### Membership Operators\n",
    "Operator keanggotaan (membership) dapat digunakan untuk memeriksa anggota dari sebuah tipe data sequence/set, operator keanggotaan meliputi:\n",
    "1. (in) Menerima sebuah sequence/set dan objek, mengembalikan True ketika objek merupakan anggota dari sequence/set, dan False ketika bukan.\n",
    "        x = [\"Ani\", \"Budi\", \"Cici\"]\n",
    "        y = \"Cici\"\n",
    "        z = \"Dodi\"\n",
    "        print(y in x) akan menampilkan nilai True\n",
    "        print(z in x) akan menampilkan nilai False\n",
    "2. (not in) Menerima sebuah sequence/set dan objek, mengembalikan True ketika objek bukan merupakan anggota dari sequence/set, dan False ketika merupakan.\n",
    "        x = [\"Ani\", \"Budi\", \"Cici\"]\n",
    "        y = \"Cici\"\n",
    "        z = \"Dodi\"\n",
    "        print(y not in x) akan menampilkan nilai False\n",
    "        print(z not in x) akan menampilkan nilai True\n"
   ]
  },
  {
   "cell_type": "markdown",
   "id": "94d78ee5",
   "metadata": {},
   "source": [
    "### Tugas Praktek"
   ]
  },
  {
   "cell_type": "code",
   "execution_count": 16,
   "id": "f6f692bd",
   "metadata": {},
   "outputs": [
    {
     "name": "stdout",
     "output_type": "stream",
     "text": [
      "365200.00000000006\n"
     ]
    }
   ],
   "source": [
    "sepatu = { \"nama\" : \"Sepatu Niko\", \"harga\": 150000, \"diskon\": 30000 }\n",
    "baju = { \"nama\" : \"Baju Unikloh\", \"harga\": 80000, \"diskon\": 8000 }\n",
    "celana = { \"nama\" : \"Celana Lepis\", \"harga\": 200000, \"diskon\": 60000 }\n",
    "harga_sepatu = sepatu[\"harga\"] - sepatu[\"diskon\"]\n",
    "harga_baju = baju[\"harga\"] - baju[\"diskon\"]\n",
    "harga_celana = celana[\"harga\"] - celana[\"diskon\"]\n",
    "total_harga = (harga_sepatu + harga_baju + harga_celana) * 1.1 \n",
    "print(total_harga)"
   ]
  },
  {
   "cell_type": "markdown",
   "id": "62b2e799",
   "metadata": {},
   "source": [
    "## [Pythons Conditioning & Looping]"
   ]
  },
  {
   "cell_type": "markdown",
   "id": "693232b1",
   "metadata": {},
   "source": [
    "### Python Conditioning for Decision\n",
    "Layaknya bahasa pemrograman lainnya, bahasa pemrograman Python menyediakan statemen desisi (decision statement) untuk berinteraksi dengan variabel bertipe boolean dan operator logika. Statemen desisi dalam Python dapat dituliskan dengan menggunakan format berikut,\n",
    "\n",
    "    if conditions:\n",
    "        do_action_1\n",
    "        ...\n",
    "        do_action_n\n",
    "\n",
    "Dengan berisikan operator yang mengembalikan nilai kebenaran; ataupun beberapa operator yang mengembalikan nilai kebenaran, yang digabungkan dengan operator logika. Melalui sebuah statemen desisi (if statement), sampai dengan akan dijalankan saat bernilai True. Dalam menuliskan serangkaian aksi (, ... , ) dalam sebuah statemen if, aku harus mengemas setiap aksi dalam sebuah blok dengan menambahkan indentasi (jorokan) dari pada aksi. Aku tidak sabar untuk mempraktekkannya"
   ]
  },
  {
   "cell_type": "code",
   "execution_count": 17,
   "id": "f8bf92ef",
   "metadata": {},
   "outputs": [
    {
     "name": "stdout",
     "output_type": "stream",
     "text": [
      "x habis dibagi dua\n",
      "x tidak habis dibagi dua, tiga ataupun lima\n"
     ]
    }
   ],
   "source": [
    "# Statement if\n",
    "x = 4\n",
    "if x % 2 == 0: # jika sisa bagi x dengan 2 sama dengan 0\n",
    "    print(\"x habis dibagi dua\") # statemen aksi lebih menjorok ke dalam\n",
    "\n",
    "# Statement if ... elif ... else\n",
    "x = 7\n",
    "if x % 2 == 0: # jika sisa bagi x dengan 2 sama dengan 0\n",
    "    print(\"x habis dibagi dua\")\n",
    "elif x % 3 == 0: # jika sisa bagi x dengan 3 sama dengan 0\n",
    "    print(\"x habis dibagi tiga\")\n",
    "elif x % 5 == 0: # jika sisa bagi x dengan 5 sama dengan 0\n",
    "    print(\"x habis dibagi lima\")\n",
    "else:\n",
    "    print(\"x tidak habis dibagi dua, tiga ataupun lima\")"
   ]
  },
  {
   "cell_type": "code",
   "execution_count": 19,
   "id": "444cbd32",
   "metadata": {},
   "outputs": [
    {
     "name": "stdout",
     "output_type": "stream",
     "text": [
      "Selamat siang!\n"
     ]
    }
   ],
   "source": [
    "jam = 13\n",
    "if jam >= 5 and jam < 12:\n",
    "    print(\"Selamat pagi!\")\n",
    "elif jam >= 12 and jam < 17: # selama jam di antara 12 s.d. 17\n",
    "    print(\"Selamat siang!\")\n",
    "elif jam >= 17 and jam < 19: # selama jam di antara 17 s.d. 19\n",
    "    print(\"Selamat sore!\")\n",
    "else: # selain kondisi di atas\n",
    "    print(\"Selamat malam!\")"
   ]
  },
  {
   "cell_type": "markdown",
   "id": "61827925",
   "metadata": {},
   "source": [
    "### Tugas Praktek\n",
    "Aku diminta tolong Senja untuk menghitung tagihan pembayaran karena saat ini prosesnya masih manual. Tugas: “Aksara, kantor kita akan merilis penawaran baru terkait jasa pembuatan data warehouse. Bisa tolong kembangkan kalkulatormu untuk menghitung tagihan pembayaran? Soalnya selama ini kita masih manual,” jelas Senja sembari memberikan contoh nota tagihan kantor. Aku belum mengiyakan karena sedikit ragu. Mengingat sebelumnya aku sempat salah. Tapi dalam hati aku berkata, pasti bisa! Kali ini aku harus mampu membuat kalkulator lebih rumit. Solusi yang terlintas dalam bayanganku: Kalkulator ini harus dapat menghitung subtotal setiap jasa yang diambil dari kolom harga/ hari dan total hari dari setiap jasa. Ternyata Senja juga memikirkan hal yang sama dengan instruksinya yang sangat membantu.\n",
    "\n",
    "Tagihan untuk Mr. Yoyo\n",
    "\n",
    "    Nama Jasa |Harga| |per hari| |Total hari| |Subtotal|\n",
    "    Data Warehousing |1000000| |15| |15000000|\n",
    "    Data Cleansing |1500000| |10| |15000000|\n",
    "    Data Integration |2000000| |15| |30000000|\n",
    "    Data Transformation |2500000| |10| |25000000|\n",
    "    Total 85000000"
   ]
  },
  {
   "cell_type": "code",
   "execution_count": 20,
   "id": "31454bcf",
   "metadata": {},
   "outputs": [
    {
     "name": "stdout",
     "output_type": "stream",
     "text": [
      "Tagihan kepada\n",
      "Mr. Yoyo\n",
      "Selamat pagi, anda harus membayar tagihan sebesar:\n",
      "85000000\n"
     ]
    }
   ],
   "source": [
    "tagihan_ke = 'Mr. Yoyo'\n",
    "werehousing = {'harga_harian':1000000,'total_hari':15}\n",
    "cleansing = {'harga_harian':1500000,'total_hari':10}\n",
    "integration = {'harga_harian':2000000,'total_hari':15}\n",
    "transformation = {'harga_harian':2500000,'total_hari':10}\n",
    "sub_werehousing = werehousing['harga_harian'] * werehousing['total_hari']\n",
    "sub_cleansing = cleansing['harga_harian']*cleansing['total_hari']\n",
    "sub_integration = integration['harga_harian']*integration['total_hari']\n",
    "sub_transform = transformation['harga_harian']*transformation['total_hari']\n",
    "total_harga = sub_werehousing+sub_cleansing+sub_integration+sub_transform\n",
    "print('Tagihan kepada')\n",
    "print(tagihan_ke)\n",
    "print(\"Selamat pagi, anda harus membayar tagihan sebesar:\")\n",
    "print(total_harga)"
   ]
  },
  {
   "cell_type": "markdown",
   "id": "e2910e6a",
   "metadata": {},
   "source": [
    "### Python While Loops\n",
    "#### Struktur Standar"
   ]
  },
  {
   "cell_type": "code",
   "execution_count": 21,
   "id": "3083aab5",
   "metadata": {},
   "outputs": [
    {
     "name": "stdout",
     "output_type": "stream",
     "text": [
      "750000\n",
      "750000\n"
     ]
    }
   ],
   "source": [
    "# Tagihan\n",
    "tagihan = [50000, 75000, 125000, 300000, 200000]\n",
    "\n",
    "# Tanpa menggunakan while loop\n",
    "total_tagihan = tagihan[0] + tagihan[1] + tagihan[2] + tagihan[3] + tagihan[4]\n",
    "print(total_tagihan)\n",
    "\n",
    "# Dengan menggunakan while loop\n",
    "i = 0 # sebuah variabel untuk mengakses setiap elemen tagihan satu per satu\n",
    "jumlah_tagihan = len(tagihan) # panjang (jumlah elemen dalam) list tagihan\n",
    "total_tagihan = 0 # mula-mula, set total_tagihan ke 0\n",
    "while i < jumlah_tagihan: # selama nilai i kurang dari jumlah_tagihan\n",
    "    total_tagihan += tagihan[i] # tambahkan tagihan[i] ke total_tagihan\n",
    "    i += 1 # tambahkan nilai i dengan 1 untuk memproses tagihan selanjutnya.\n",
    "print(total_tagihan)"
   ]
  },
  {
   "cell_type": "markdown",
   "id": "a8ed9aa4",
   "metadata": {},
   "source": [
    "#### Struktur dengan Continue atau Break\n",
    "Dalam sebuah struktur kontrol pengulangan, aku dapat menggunakan perintah break untuk keluar dari struktur pengulangan dan perintah continue untuk melanjutkan proses pengulangan berikutnya."
   ]
  },
  {
   "cell_type": "code",
   "execution_count": 22,
   "id": "b8c73d30",
   "metadata": {},
   "outputs": [
    {
     "name": "stdout",
     "output_type": "stream",
     "text": [
      "terdapat angka minus dalam tagihan, perhitungan dihentikan!\n",
      "-1\n"
     ]
    }
   ],
   "source": [
    "tagihan = [50000, 75000, -150000, 125000, 300000, -50000, 200000]\n",
    "i = 0\n",
    "jumlah_tagihan = len(tagihan)\n",
    "total_tagihan = 0\n",
    "while i < jumlah_tagihan:\n",
    "    # jika terdapat tagihan ke-i yang bernilai minus (di bawah nol),\n",
    "    # pengulangan akan dihentikan\n",
    "    if tagihan[i] < 0:\n",
    "        total_tagihan = -1\n",
    "        print(\"terdapat angka minus dalam tagihan, perhitungan dihentikan!\")\n",
    "        break\n",
    "    total_tagihan += tagihan[i]\n",
    "    i += 1\n",
    "print(total_tagihan)"
   ]
  },
  {
   "cell_type": "code",
   "execution_count": 23,
   "id": "6bf4ce66",
   "metadata": {},
   "outputs": [
    {
     "name": "stdout",
     "output_type": "stream",
     "text": [
      "750000\n"
     ]
    }
   ],
   "source": [
    "tagihan = [50000, 75000, -150000, 125000, 300000, -50000, 200000]\n",
    "i = 0\n",
    "jumlah_tagihan = len(tagihan)\n",
    "total_tagihan = 0\n",
    "while i < jumlah_tagihan:\n",
    "    # jika terdapat tagihan ke-i yang bernilai minus (di bawah nol),\n",
    "    # abaikan tagihan ke-i dan lanjutkan ke tagihan berikutnya\n",
    "    if tagihan[i] < 0:\n",
    "        i += 1\n",
    "        continue\n",
    "    total_tagihan += tagihan[i]\n",
    "    i += 1\n",
    "print(total_tagihan)"
   ]
  },
  {
   "cell_type": "markdown",
   "id": "1704bdd5",
   "metadata": {},
   "source": [
    "### Python For Loops\n",
    "#### Struktur Standar"
   ]
  },
  {
   "cell_type": "code",
   "execution_count": 24,
   "id": "7a8f4304",
   "metadata": {},
   "outputs": [
    {
     "name": "stdout",
     "output_type": "stream",
     "text": [
      "550000\n"
     ]
    }
   ],
   "source": [
    "list_tagihan = [50000, 75000, -150000, 125000, 300000, -50000, 200000]\n",
    "total_tagihan = 0\n",
    "for tagihan in list_tagihan: # untuk setiap tagihan dalam list_tagihan\n",
    "    total_tagihan += tagihan # tambahkan tagihan ke total_tagihan\n",
    "print(total_tagihan)"
   ]
  },
  {
   "cell_type": "markdown",
   "id": "b8c5488c",
   "metadata": {},
   "source": [
    "#### Struktur dengan Continue atau Break"
   ]
  },
  {
   "cell_type": "code",
   "execution_count": 25,
   "id": "7e879d40",
   "metadata": {},
   "outputs": [
    {
     "name": "stdout",
     "output_type": "stream",
     "text": [
      "terdapat angka minus dalam tagihan, perhitungan dihentikan!\n",
      "125000\n"
     ]
    }
   ],
   "source": [
    "list_tagihan = [50000, 75000, -150000, 125000, 300000, -50000, 200000]\n",
    "total_tagihan = 0\n",
    "for tagihan in list_tagihan:\n",
    "    if tagihan < 0:\n",
    "        print(\"terdapat angka minus dalam tagihan, perhitungan dihentikan!\")\n",
    "        break\n",
    "    total_tagihan += tagihan\n",
    "print(total_tagihan)"
   ]
  },
  {
   "cell_type": "code",
   "execution_count": 26,
   "id": "69135d86",
   "metadata": {},
   "outputs": [
    {
     "name": "stdout",
     "output_type": "stream",
     "text": [
      "Terdapat angka minus dalam tagihan, tagihan -150000 dilewati!\n",
      "Terdapat angka minus dalam tagihan, tagihan -50000 dilewati!\n",
      "Total tagihan 750000.\n"
     ]
    }
   ],
   "source": [
    "total_tagihan_continue = 0\n",
    "for tagihan in list_tagihan:\n",
    "    if tagihan < 0:\n",
    "        print(\"Terdapat angka minus dalam tagihan, tagihan %d dilewati!\" % tagihan)\n",
    "        continue\n",
    "    total_tagihan_continue += tagihan\n",
    "print(\"Total tagihan %d.\" % total_tagihan_continue)"
   ]
  },
  {
   "cell_type": "markdown",
   "id": "4b4f7a1a",
   "metadata": {},
   "source": [
    "#### Nested Loops\n",
    "Ternyata, aku belajar bahwa ada istilah nested loops, yaitu pengulangan bersarang. Dengan nested loops, aku dapat mengkombinasikan (menambahkan) struktur pengulangan lain di dalamnya."
   ]
  },
  {
   "cell_type": "code",
   "execution_count": 27,
   "id": "43146bab",
   "metadata": {},
   "outputs": [
    {
     "name": "stdout",
     "output_type": "stream",
     "text": [
      "Apel Malang\n",
      "Duku Malang\n",
      "Jeruk Malang\n",
      "Apel Palembang\n",
      "Duku Palembang\n",
      "Jeruk Palembang\n",
      "Apel Medan\n",
      "Duku Medan\n",
      "Jeruk Medan\n"
     ]
    }
   ],
   "source": [
    "list_daerah = ['Malang', 'Palembang', 'Medan']\n",
    "list_buah = ['Apel', 'Duku', 'Jeruk']\n",
    "for nama_daerah in list_daerah:\n",
    "    for nama_buah in list_buah:\n",
    "        print(nama_buah+\" \"+nama_daerah)"
   ]
  },
  {
   "cell_type": "markdown",
   "id": "bceba673",
   "metadata": {},
   "source": [
    "## [Mini Quiz]"
   ]
  },
  {
   "cell_type": "markdown",
   "id": "2bdec171",
   "metadata": {},
   "source": [
    "#### Mini Quiz 1\n",
    "Aku di informasikan Senja bahwa manajemen cukup puas dengan hasil kalkulator potongan harga dan pajak yang aku kembangkan dan aku diberikan kepercayaan lebih untuk membuat program baru. Dalam program kali ini, aku diminta untuk menghitung total pengeluaran dan pemasukan perusahaan. Senja pun mengingatkan akan ada penghitungan cash flow. Melihat Senja dan tim manajemen memberikan kepercayaan yang besar kepadaku, akupun bersemangat!\n",
    "\n",
    "Program yang akan aku bangun akan mengolah sebuah list yang bernama list_cash_flow. Setiap elemen dari list_cash_flow berisikan pengeluaran (bilangan negatif) dan pemasukan (bilangan positif) pada perusahaan\n",
    "\n",
    "Dari list_cash_flow ini, aku akan menghitung total_pengeluaran dan total_pemasukan perusahaan."
   ]
  },
  {
   "cell_type": "code",
   "execution_count": 28,
   "id": "7834f1be",
   "metadata": {},
   "outputs": [
    {
     "name": "stdout",
     "output_type": "stream",
     "text": [
      "12500000\n",
      "65000000\n"
     ]
    }
   ],
   "source": [
    "list_cash_flow = [\n",
    "2500000, 5000000, -1000000, -2500000, 5000000, 10000000,\n",
    "-5000000, 7500000, 10000000, -1500000, 25000000, -2500000\n",
    "]\n",
    "total_pengeluaran, total_pemasukan = 0, 0\n",
    "for dana in list_cash_flow:\n",
    "    if dana > 0:\n",
    "        total_pemasukan += dana\n",
    "    else:\n",
    "        total_pengeluaran += dana\n",
    "total_pengeluaran *= -1\n",
    "print(total_pengeluaran) \n",
    "print(total_pemasukan)"
   ]
  },
  {
   "cell_type": "markdown",
   "id": "fe0f2f54",
   "metadata": {},
   "source": [
    "#### Mini Quiz 2\n",
    "Aku menyambar ponsel di meja dan membuka pesan singkat dari paman tempo hari yang menjelaskan jika paman harus mengeluarkan uang sebesar 1,5 juta per mobil dalam sehari. Tapi, beliau selalu kebingungan total pengeluaran per bulan karena adanya aturan ganjil-genap yang membuat pengoperasian mobil yang berbeda. “Kalau begitu, aku akan masukkan variabel jumlah_hari berisi jumlah hari dalam sebulan dan variabel list_plat_nomor berisi seluruh nomor plat mobil milik paman,” gumamku sendiri. Kalau seperti ini paman hanya perlu mengganti variabel jumlah_hari atau modifikasi variabel list_plat_nomor untuk melacak total pengeluaran paman selama sebulan. Ide Cemerlang!"
   ]
  },
  {
   "cell_type": "code",
   "execution_count": 29,
   "id": "79a3c145",
   "metadata": {},
   "outputs": [
    {
     "name": "stdout",
     "output_type": "stream",
     "text": [
      "163500000\n"
     ]
    }
   ],
   "source": [
    "# Data\n",
    "uang_jalan = 1500000\n",
    "jumlah_hari = 31\n",
    "list_plat_nomor = [8993, 2198, 2501, 2735, 3772, 4837, 9152]\n",
    "# Pengecekan kendaraan dengan nomor pelat ganjil atau genap \n",
    "# Deklarasikan kendaraan_genap dan kendaraan_ganjil = 0\n",
    "kendaraan_genap = 0\n",
    "kendaraan_ganjil = 0\n",
    "for plat_nomor in list_plat_nomor:\n",
    "    if plat_nomor % 2 == 0:\n",
    "       kendaraan_genap += 1   \n",
    "    else:\n",
    "       kendaraan_ganjil += 1 \n",
    "# Total pengeluaran untuk kendaraan dengan nomor pelat ganjil \n",
    "# dan genap dalam 1 bulan\n",
    "i = 1\n",
    "total_pengeluaran = 0\n",
    "while i <= jumlah_hari:\n",
    "    if i % 2 == 0:\n",
    "       total_pengeluaran += (kendaraan_genap * uang_jalan) \n",
    "    else:\n",
    "       total_pengeluaran += (kendaraan_ganjil * uang_jalan)   \n",
    "    i += 1\n",
    "# Cetak total pengeluaran\n",
    "print(total_pengeluaran)"
   ]
  },
  {
   "cell_type": "markdown",
   "id": "bb6af643",
   "metadata": {},
   "source": [
    "## [Hasil Belajarku]\n",
    "Dari materi yang telah aku pelajari dan praktekkan, aku telah mempelajari:\n",
    "1. Alasan Python secara luas digunakan dalam komputasi saintifik, web, ranah data (data domain).\n",
    "2. Konstruksi dari struktur bahasa pemrograman Python.\n",
    "3. Teknik mempraktekkan penggunaan tipe data pada Python.\n",
    "4. Teknik mempraktekkan penggunaan jenis-jenis operator pada Python.\n",
    "5. Teknik mempraktekkan penggunaan pengkondisian untuk pengambilan keputusan dan perulangan pada Python.\n",
    "6. Program Python untuk penyelesaian kasus bisnis sederhana.\n"
   ]
  }
 ],
 "metadata": {
  "kernelspec": {
   "display_name": "Python 3 (ipykernel)",
   "language": "python",
   "name": "python3"
  },
  "language_info": {
   "codemirror_mode": {
    "name": "ipython",
    "version": 3
   },
   "file_extension": ".py",
   "mimetype": "text/x-python",
   "name": "python",
   "nbconvert_exporter": "python",
   "pygments_lexer": "ipython3",
   "version": "3.9.7"
  }
 },
 "nbformat": 4,
 "nbformat_minor": 5
}
