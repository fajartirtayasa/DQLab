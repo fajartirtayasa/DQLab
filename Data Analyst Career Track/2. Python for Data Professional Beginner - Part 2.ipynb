{
 "cells": [
  {
   "cell_type": "markdown",
   "id": "8f487a57",
   "metadata": {},
   "source": [
    "# Python for Data Professional Beginner - Part 2\n",
    "## [Collection Manipulation dengan Python]\n",
    "### Apa itu Collection Manipulation?\n",
    "Collections manipulation adalah salah satu teknik yang penting untuk dikuasai setiap programmer. Melalui penguasaan materi collections  manipulation, aku dapat mengolah berbagai tipe data collections dalam Python yang meliputi:\n",
    "1. list,\n",
    "2. tuple,\n",
    "3. set, dan\n",
    "4. Dictionary.\n",
    "\n",
    "### Mengakses List dan Tuple\n",
    "Seperti yang telah aku pelajari pada modul Python for Data Professional Beginner - Part 1: Bab “Sequence Type”, aku dapat mengakses elemen pada suatu list ataupun tuple dengan menggunakan indeks atau semacam nomor urut dari list atau tuple tersebut. Indeks pada suatu tipe data list atau tuple dimulai dari angka 0."
   ]
  },
  {
   "cell_type": "code",
   "execution_count": 4,
   "id": "7eb6a6a6",
   "metadata": {},
   "outputs": [
    {
     "name": "stdout",
     "output_type": "stream",
     "text": [
      "Januari\n",
      "Juni\n",
      "Desember\n",
      "November\n"
     ]
    }
   ],
   "source": [
    "bulan_pembelian = ('Januari', 'Februari', 'Maret', 'April', 'Mei', 'Juni',\n",
    "                   'Juli', 'Agustus', 'September', 'Oktober', 'November', 'Desember')\n",
    "print(bulan_pembelian[0])\n",
    "print(bulan_pembelian[5])\n",
    "print(bulan_pembelian[-1])\n",
    "print(bulan_pembelian[-2])"
   ]
  },
  {
   "cell_type": "markdown",
   "id": "b44bd6ea",
   "metadata": {},
   "source": [
    "Cara collections manipulation pertama yang akan aku pelajari adalah **memotong (slicing)** list/tuple dengan menggunakan rentangan nilai indeks (range of index)."
   ]
  },
  {
   "cell_type": "code",
   "execution_count": 8,
   "id": "4efddb7b",
   "metadata": {
    "scrolled": true
   },
   "outputs": [
    {
     "name": "stdout",
     "output_type": "stream",
     "text": [
      "('Mei', 'Juni', 'Juli', 'Agustus')\n",
      "('Januari', 'Februari', 'Maret', 'April', 'Mei')\n",
      "('September', 'Oktober', 'November', 'Desember')\n",
      "('September', 'Oktober', 'November')\n"
     ]
    }
   ],
   "source": [
    "pertengahan_tahun = bulan_pembelian[4:8]\n",
    "print(pertengahan_tahun)\n",
    "\n",
    "awal_tahun = bulan_pembelian[:5]\n",
    "print(awal_tahun)\n",
    "\n",
    "akhir_tahun = bulan_pembelian[8:]\n",
    "print(akhir_tahun)\n",
    "\n",
    "print(bulan_pembelian[-4:-1])"
   ]
  },
  {
   "cell_type": "markdown",
   "id": "59871d6f",
   "metadata": {},
   "source": [
    "### Penggabungan Dua atau Lebih List atau Tuple\n",
    "Selain dapat melakukan pemotongan terhadap tipe data list/tuple, aku juga dapat menggabungkan isi dari suatu list (ataupun tuple) dengan list lainnya (atau dengan tuple lainnya) dengan menggunakan operator penambahan (+)."
   ]
  },
  {
   "cell_type": "code",
   "execution_count": 9,
   "id": "ae2d39e5",
   "metadata": {},
   "outputs": [
    {
     "name": "stdout",
     "output_type": "stream",
     "text": [
      "['Gado-gado', 'Ayam Goreng', 'Rendang', 'Es Teh', 'Es Jeruk', 'Es Campur']\n"
     ]
    }
   ],
   "source": [
    "list_makanan = ['Gado-gado', 'Ayam Goreng', 'Rendang']\n",
    "list_minuman = ['Es Teh', 'Es Jeruk', 'Es Campur']\n",
    "list_menu = list_makanan + list_minuman\n",
    "print(list_menu)"
   ]
  },
  {
   "cell_type": "markdown",
   "id": "f6a44781",
   "metadata": {},
   "source": [
    "### List Manipulation - Part 1\n",
    "Untuk memanipulasi tipe data list, aku dapat menggunakan sekumpulan fitur yang telah tersedia dalam bahasa pemrograman Python. Merujuk pada tabel di bawah, aku dapat memahami fitur-fitur untuk melakukan manipulasi data yang terdiri atas **append()**, **clear()**, **copy()**, **ount()** dan **extend()**\n",
    "\n",
    "Beberapa fitur dan kegunaannya.\n",
    "1. **.append()** : Menambahkan data sebagai elemen terakhir di list\n",
    "2. **.clear()** : Menghapus seluruh elemen dalam sebuah list\n",
    "3. **.copy()** : Mengembalikan copy dari setiap elemen dalam list\n",
    "4. **.count()** : Mengembalikan jumlah kemunculan suatu elemen pada list\n",
    "5. **.extend()** : Menggabungkan dua buah list seperti penggunaan operator + untuk list"
   ]
  },
  {
   "cell_type": "code",
   "execution_count": 10,
   "id": "c1988dd9",
   "metadata": {},
   "outputs": [
    {
     "name": "stdout",
     "output_type": "stream",
     "text": [
      ">>> Fitur .append()\n",
      "['Gado-gado', 'Ayam Goreng', 'Rendang', 'Ketoprak']\n",
      ">>> Fitur .clear()\n",
      "[]\n",
      ">>> Fitur .copy()\n",
      "['Gado-gado', 'Ayam Goreng', 'Rendang', 'Ketoprak']\n",
      "['Gado-gado', 'Ayam Goreng', 'Rendang', 'Opor']\n",
      ">>> Fitur .count()\n",
      "4\n",
      "3\n",
      ">>> Fitur .extend()\n",
      "['Gado-gado', 'Ayam Goreng', 'Rendang', 'Es Teh', 'Es Jeruk', 'Es Campur']\n"
     ]
    }
   ],
   "source": [
    "# Fitur .append()\n",
    "print(\">>> Fitur .append()\")\n",
    "list_makanan = ['Gado-gado', 'Ayam Goreng', 'Rendang']\n",
    "list_makanan.append('Ketoprak')\n",
    "print(list_makanan)\n",
    "# Fitur .clear()\n",
    "print(\">>> Fitur .clear()\")\n",
    "list_makanan = ['Gado-gado', 'Ayam Goreng', 'Rendang']\n",
    "list_makanan.clear()\n",
    "print(list_makanan)\n",
    "# Fitur .copy()\n",
    "print(\">>> Fitur .copy()\")\n",
    "list_makanan1 = ['Gado-gado', 'Ayam Goreng', 'Rendang']\n",
    "list_makanan2 = list_makanan1.copy()\n",
    "list_makanan3 = list_makanan1\n",
    "list_makanan2.append('Opor')\n",
    "list_makanan3.append('Ketoprak')\n",
    "print(list_makanan1)\n",
    "print(list_makanan2)\n",
    "# Fitur .count()\n",
    "print(\">>> Fitur .count()\")\n",
    "list_score = ['Budi', 'Sud', 'Budi', 'Budi', 'Budi', 'Sud', 'Sud']\n",
    "score_budi = list_score.count('Budi')\n",
    "score_sud = list_score.count('Sud')\n",
    "print(score_budi) # akan menampilkan output 4\n",
    "print(score_sud) # akan menampilkan output 3\n",
    "# Fitur .extend()\n",
    "print(\">>> Fitur .extend()\")\n",
    "list_menu = ['Gado-gado', 'Ayam Goreng', 'Rendang']\n",
    "list_minuman = ['Es Teh', 'Es Jeruk', 'Es Campur']\n",
    "list_menu.extend(list_minuman)\n",
    "print(list_menu)"
   ]
  },
  {
   "cell_type": "markdown",
   "id": "f877bd45",
   "metadata": {},
   "source": [
    "### List Manipulation – Part 2\n",
    "Selanjutnya aku akan mempelajari fitur **index()**, **insert()**, **pop()**, **remove()**, **everse()**, dan **sort()** untuk melakukan manipulasi.\n",
    "\n",
    "Beberapa fitur dan kegunaannya.\n",
    "1. **.indeks()** -> mengembalikan indeks dari elemen pertama yang ditemukan dari awal sebuah list\n",
    "2. **.insert()** -> menyisipkan elemen pada indeks yan dispesifikasikan\n",
    "3. **.pop()** -> menghilangkan elemen pada posisi tertentu\n",
    "4. **.remove()** -> menghilangkan elemen dengan nilai tertentu\n",
    "5. **.reserve()** -> membalik urutan elemen dari sebuah list\n",
    "6. **.sort()** -> mengurutkan elemen pada sebuah list, secara default dengan urutan dari kecil ke besar (ascending) atau descending"
   ]
  },
  {
   "cell_type": "code",
   "execution_count": 11,
   "id": "5f74d0cf",
   "metadata": {},
   "outputs": [
    {
     "name": "stdout",
     "output_type": "stream",
     "text": [
      ">>> Fitur .index()\n",
      "2\n",
      ">>> Fitur .insert()\n",
      "['Budi', 'Sud', 'Budi', 'Sud', 'Budi', 'Sud']\n",
      ">>> Fitur .pop()\n",
      "['Gado-gado', 'Rendang']\n",
      ">>> Fitur .remove()\n",
      "['Gado-gado', 'Ayam Goreng', 'Ketoprak']\n",
      ">>> Fitur .reverse()\n",
      "['Ketoprak', 'Rendang', 'Ayam Goreng', 'Gado-gado']\n",
      ">>> Fitur .sort()\n",
      "['Ayam Goreng', 'Gado-gado', 'Ketoprak', 'Rendang']\n",
      "['Rendang', 'Ketoprak', 'Gado-gado', 'Ayam Goreng']\n"
     ]
    }
   ],
   "source": [
    "# Fitur .index()\n",
    "print(\">>> Fitur .index()\")\n",
    "list_score = ['Budi','Sud','Budi','Budi','Budi','Sud','Sud']\n",
    "score_pertama_sud = list_score.index('Sud') + 1\n",
    "print(score_pertama_sud) # akan menampilkan output 2\n",
    "# Fitur .insert()\n",
    "print(\">>> Fitur .insert()\")\n",
    "list_score = ['Budi','Sud','Budi','Budi','Sud']\n",
    "list_score.insert(3, 'Sud')\n",
    "print(list_score)\n",
    "# Fitur .pop()\n",
    "print(\">>> Fitur .pop()\")\n",
    "list_menu = ['Gado-gado', 'Ayam Goreng', 'Rendang']\n",
    "list_menu.pop(1)\n",
    "print(list_menu)\n",
    "# Fitur .remove()\n",
    "print(\">>> Fitur .remove()\")\n",
    "list_menu = ['Gado-gado', 'Ayam Goreng', 'Rendang', 'Ketoprak']\n",
    "list_menu.remove('Rendang')\n",
    "print(list_menu)\n",
    "# Fitur .reverse()\n",
    "print(\">>> Fitur .reverse()\")\n",
    "list_menu = ['Gado-gado', 'Ayam Goreng', 'Rendang', 'Ketoprak']\n",
    "list_menu.reverse()\n",
    "print(list_menu)\n",
    "# Fitur .sort()\n",
    "print(\">>> Fitur .sort()\")\n",
    "list_menu = ['Gado-gado', 'Ayam Goreng', 'Rendang', 'Ketoprak']\n",
    "list_menu.sort() # Default: Ascending\n",
    "print(list_menu) \n",
    "list_menu.sort(reverse=True)# Descending\n",
    "print(list_menu) "
   ]
  },
  {
   "cell_type": "markdown",
   "id": "d4d0e401",
   "metadata": {},
   "source": [
    "### Tuple Manipulation\n",
    "Beberapa fitur dan kegunaannya.\n",
    "1. **.count()** : Mengembalikan jumlah kemunculan suatu elemen pada tuple\n",
    "2. **.index()** : Mengembalikan indeks dari elemen pertama yang ditemukan dari awal sebuah tuple"
   ]
  },
  {
   "cell_type": "code",
   "execution_count": 12,
   "id": "c59b714a",
   "metadata": {},
   "outputs": [
    {
     "name": "stdout",
     "output_type": "stream",
     "text": [
      ">>> Fitur .count()\n",
      "4\n",
      "3\n",
      ">>> Fitur .index()\n",
      "2\n"
     ]
    }
   ],
   "source": [
    "# Fitur .count()\n",
    "print(\">>> Fitur .count()\")\n",
    "tuple_score = ('Budi', 'Sud', 'Budi', 'Budi', 'Budi', 'Sud', 'Sud')\n",
    "score_budi = tuple_score.count('Budi')\n",
    "score_sud = tuple_score.count('Sud')\n",
    "print(score_budi) # akan menampilkan output 4\n",
    "print(score_sud) # akan menampilkan output 3\n",
    "# Fitur .index()\n",
    "print(\">>> Fitur .index()\")\n",
    "tuple_score = ('Budi','Sud','Budi','Budi','Budi','Sud','Sud')\n",
    "score_pertama_sud = tuple_score.index('Sud')+1\n",
    "print(score_pertama_sud) # akan menampilkan output 2"
   ]
  },
  {
   "cell_type": "markdown",
   "id": "463a0ca8",
   "metadata": {},
   "source": [
    "### Set Manipulation - Part 1\n",
    "Beberapa fitur dan kegunaannya.\n",
    "1. **.add()** -> Menambahkan data ke dalam set. Penting untuk kita ingat bahwa pada tipe data set tidak mengizinkan adanya duplikasi elemen di dalamnya.\n",
    "2. **.clear()** -> Menghapus seluruh elemen dalam sebuah set\n",
    "3. **.copy()** -> Mengembalikan copy dari setiap elemen dalam set\n",
    "4. **.update()** -> Menambahkan elemen dari suatu set dengan set lainnya\n",
    "5. **.pop()** -> Menghilangkan elemen dari sebuah set secara acak\n",
    "6. **.remove()** -> Menghilangkan elemen dengan nilai tertentu"
   ]
  },
  {
   "cell_type": "code",
   "execution_count": 13,
   "id": "6d11668f",
   "metadata": {},
   "outputs": [
    {
     "name": "stdout",
     "output_type": "stream",
     "text": [
      ">>> Fitur .add()\n",
      "{'Melon', 'Anggur', 'Apel', 'Jeruk'}\n",
      ">>> Fitur .clear()\n",
      "set()\n",
      ">>> Fitur .copy()\n",
      "{'Melon', 'Anggur', 'Apel', 'Jeruk'}\n",
      "{'Melon', 'Anggur', 'Apel', 'Jeruk'}\n",
      ">>> Fitur .update()\n",
      "{'Kiwi', 'Anggur', 'Jeruk', 'Melon', 'Apel'}\n",
      ">>> Fitur .pop()\n",
      "Anggur\n",
      "{'Apel', 'Jeruk'}\n",
      ">>> Fitur .remove()\n",
      "{'Anggur', 'Jeruk'}\n"
     ]
    }
   ],
   "source": [
    "# Fitur .add()\n",
    "print(\">>> Fitur .add()\")\n",
    "set_buah = {'Jeruk','Apel','Anggur'}\n",
    "set_buah.add('Melon')\n",
    "print(set_buah)\n",
    "# Fitur .clear()\n",
    "print(\">>> Fitur .clear()\")\n",
    "set_buah = {'Jeruk','Apel','Anggur'}\n",
    "set_buah.clear()\n",
    "print(set_buah)\n",
    "# Fitur .copy()\n",
    "print(\">>> Fitur .copy()\")\n",
    "set_buah1 = {'Jeruk','Apel','Anggur'}\n",
    "set_buah2 = set_buah1\n",
    "set_buah3 = set_buah1.copy()\n",
    "set_buah2.add('Melon')\n",
    "set_buah3.add('Kiwi')\n",
    "print(set_buah1)\n",
    "print(set_buah2)\n",
    "# Fitur .update()\n",
    "print(\">>> Fitur .update()\")\n",
    "parcel1 = {'Anggur','Apel','Jeruk'}\n",
    "parcel2 = {'Apel','Kiwi','Melon'}\n",
    "parcel1.update(parcel2)\n",
    "print(parcel1)\n",
    "# Fitur .pop()\n",
    "print(\">>> Fitur .pop()\")\n",
    "parcel = {'Anggur','Apel','Jeruk'}\n",
    "buah = parcel.pop()\n",
    "print(buah)\n",
    "print(parcel)\n",
    "# Fitur .remove()\n",
    "print(\">>> Fitur .remove()\")\n",
    "parcel = {'Anggur','Apel','Jeruk'}\n",
    "parcel.remove('Apel')\n",
    "print(parcel)"
   ]
  },
  {
   "cell_type": "markdown",
   "id": "349e8df2",
   "metadata": {},
   "source": [
    "### Set Manipulation - Part 2\n",
    "Beberapa fitur dan kegunaannya.\n",
    "1. **.union()** : Mengembalikan hasil penggabungan (union) dari dua buah set.\n",
    "2. **.isdisjoint()** : Mengembalikan nilai kebenaran apakah suatu set disjoint (saling lepas/tidak mengandung elemen yang sama) dengan set lainnya.\n",
    "3. **.issubset()** : Mengembalikan nilai kebenaran apakah sebuah set merupakan subset dari set lainnya. Sebuah set A merupakan subset dari set B jika seluruh elemen dari set A merupakan bagian dari set B.\n",
    "4. **.issuperset()** : Mengembalikan nilai kebenaran apakah sebuah set merupakan superset dari set lainnya. Sebuah set A merupakan superset dari set B jika seluruh elemen dari set B terkandung dalam set A.\n",
    "5. **.intersection()** : Mengembalikan sebuah set yang merupakan intersection dari dua set lainnya.\n",
    "6. **.difference()** : Mengembalikan sebuah set yang berisikan difference dari dua set lainnya. Difference dari sebuah set A berdasarkan set B adalah setiap elemen yang terdapat di set A tetapi tidak terdapat di set B.\n",
    "7. **.symmetric_difference()** : Mengembalikan sebuah set yang berisikan symmetric difference dari dua set lainnya. Symmetric difference dari sebuah set A dan B adalah setiap elemen dari set A yang tidak terdapat di set B digabungkan dengan (union) setiap elemen dari set B yang tidak terdapat di set A.\n"
   ]
  },
  {
   "cell_type": "code",
   "execution_count": 14,
   "id": "db705768",
   "metadata": {},
   "outputs": [
    {
     "name": "stdout",
     "output_type": "stream",
     "text": [
      ">>> Fitur .union()\n",
      "{'Anggur', 'Apel', 'Jeruk'}\n",
      "{'Kiwi', 'Anggur', 'Jeruk', 'Melon', 'Apel'}\n",
      ">>> Fitur .isdisjoint()\n",
      "True\n",
      "False\n",
      ">>> Fitur .issubset()\n",
      "True\n",
      "False\n",
      ">>> Fitur .issuperset()\n",
      "True\n",
      "False\n",
      ">>> Fitur .intersection()\n",
      "{'Apel', 'Jeruk'}\n",
      ">>> Fitur .difference()\n",
      "{'Kiwi', 'Anggur', 'Melon'}\n",
      ">>> Fitur .symmetric_difference()\n",
      "{'Anggur', 'Melon', 'Leci', 'Semangka'}\n"
     ]
    }
   ],
   "source": [
    "# Fitur .union()\n",
    "print(\">>> Fitur .union()\")\n",
    "parcel1 = {'Anggur','Apel','Jeruk'}\n",
    "parcel2 = {'Apel','Kiwi','Melon'}\n",
    "parcel3 = parcel1.union(parcel2)\n",
    "print(parcel1)\n",
    "print(parcel3)\n",
    "# Fitur .isdisjoint()\n",
    "print(\">>> Fitur .isdisjoint()\")\n",
    "parcel1 = {'Anggur','Apel','Jeruk'}\n",
    "parcel2 = {'Kiwi','Melon','Pisang'}\n",
    "parcel3 = {'Apel','Srikaya','Semangka'}\n",
    "parcel1_parcel2_disjoint = parcel1.isdisjoint(parcel2)\n",
    "print(parcel1_parcel2_disjoint)\n",
    "parcel1_parcel3_disjoint = parcel1.isdisjoint(parcel3)\n",
    "print(parcel1_parcel3_disjoint)\n",
    "# Fitur .issubset()\n",
    "print(\">>> Fitur .issubset()\")\n",
    "parcel_A = {'Anggur', 'Apel'}\n",
    "parcel_B = {'Durian','Semangka','Apel'}\n",
    "parcel_C = {'Anggur', 'Kiwi', 'Apel', 'Jeruk', 'Melon'}\n",
    "parcel_A_dalam_C = parcel_A.issubset(parcel_C)\n",
    "parcel_B_dalam_C = parcel_B.issubset(parcel_C)\n",
    "print(parcel_A_dalam_C)\n",
    "print(parcel_B_dalam_C)\n",
    "# Fitur .issuperset()\n",
    "print(\">>> Fitur .issuperset()\")\n",
    "parcel_C_mengandung_A = parcel_C.issuperset(parcel_A)\n",
    "parcel_C_mengandung_B = parcel_C.issuperset(parcel_B)\n",
    "print(parcel_C_mengandung_A)\n",
    "print(parcel_C_mengandung_B)\n",
    "# Fitur .intersection()\n",
    "print(\">>> Fitur .intersection()\")\n",
    "parcel_A = {'Anggur', 'Kiwi', 'Apel', 'Jeruk', 'Melon'}\n",
    "parcel_B = {'Apel', 'Jeruk', 'Semangka', 'Durian', 'Tomat'}\n",
    "parcel_C = parcel_A.intersection(parcel_B)\n",
    "print(parcel_C)\n",
    "# Fitur .difference()\n",
    "print(\">>> Fitur .difference()\")\n",
    "parcel_C = parcel_A.difference(parcel_B)\n",
    "print(parcel_C)\n",
    "# Fitur .symmetric_difference()\n",
    "print(\">>> Fitur .symmetric_difference()\")\n",
    "parcel_A = {'Anggur', 'Apel', 'Jeruk', 'Melon'}\n",
    "parcel_B = {'Apel','Jeruk','Semangka','Leci'}\n",
    "parcel_C = parcel_A.symmetric_difference(parcel_B)\n",
    "print(parcel_C)"
   ]
  },
  {
   "cell_type": "markdown",
   "id": "adb93a97",
   "metadata": {},
   "source": [
    "### Dictionary Manipulation\n",
    "Beberapa fitur dan kegunaannya.\n",
    "1. **.clear()** : Menghapus seluruh elemen dalam sebuah dictionary\n",
    "2. **.copy()** : Mengembalikan copy dari setiap elemen dalam set. Serupa dengan fitur copy() pada tipe data collections lainnya, fitur copy() tidak akan mengubah nilai dari elemen asal seperti fungsi assignment.\n",
    "3. **.keys()** : Mengembalikan list dari seluruh kunci akses (\"key\") dari setiap elemen dalam sebuah dictionary\n",
    "4. **.values()** : Mengembalikan list dari seluruh nilai (\"value\") dari setiap elemen dalam sebuah dictionary\n",
    "5. **.update()** : Menambahkan kunci akses (\"key\") dan nilai baru (\"value\") ke dalam sebuah dictionary."
   ]
  },
  {
   "cell_type": "code",
   "execution_count": 15,
   "id": "1d96e0ac",
   "metadata": {},
   "outputs": [
    {
     "name": "stdout",
     "output_type": "stream",
     "text": [
      ">>> Fitur .clear()\n",
      "{}\n",
      ">>> Fitur .copy()\n",
      "{'nama': 'Aksara', 'nik': '1211011', 'pekerjaan': 'Data Analyst'}\n",
      "{'nama': 'Senja', 'nik': '1211056', 'pekerjaan': 'Data Analyst'}\n",
      ">>> Fitur .keys()\n",
      "['nama', 'nik', 'pekerjaan']\n",
      ">>> Fitur .values()\n",
      "['Aksara', '1211011', 'Data Analyst']\n",
      ">>> Fitur .update()\n",
      "{'nama': 'Aksara', 'nik': '1211011', 'pekerjaan': 'Data Analyst', 'skillset': ['Python', 'R']}\n"
     ]
    }
   ],
   "source": [
    "# Fitur .clear()\n",
    "print(\">>> Fitur .clear()\")\n",
    "info_karyawan = {'nama' : 'Aksara',\n",
    "                 'nik' : '1211011',\n",
    "                 'pekerjaan' : 'Data Analyst'}\n",
    "info_karyawan.clear()\n",
    "print(info_karyawan)\n",
    "# Fitur .copy()\n",
    "print(\">>> Fitur .copy()\")\n",
    "info_karyawan1 = {'nama' : 'Aksara',\n",
    "                  'nik' : '1211011',\n",
    "                  'pekerjaan' : 'Data Analyst'}\n",
    "info_karyawan2 = info_karyawan1.copy()\n",
    "info_karyawan2['nama'] = 'Senja'\n",
    "info_karyawan2['nik'] = '1211056'\n",
    "print(info_karyawan1)\n",
    "print(info_karyawan2)\n",
    "# Fitur .keys()\n",
    "print(\">>> Fitur .keys()\")\n",
    "info_karyawan = {'nama' : 'Aksara',\n",
    "                 'nik' : '1211011',\n",
    "                 'pekerjaan' : 'Data Analyst'}\n",
    "kunci_akses = list(info_karyawan.keys())\n",
    "print(kunci_akses)\n",
    "# Fitur .values()\n",
    "print(\">>> Fitur .values()\")\n",
    "value_dict = list(info_karyawan.values())\n",
    "print(value_dict)\n",
    "# Fitur .update()\n",
    "print(\">>> Fitur .update()\")\n",
    "info_karyawan.update({'skillset':['Python', 'R']})\n",
    "print(info_karyawan)"
   ]
  },
  {
   "cell_type": "markdown",
   "id": "d35c5935",
   "metadata": {},
   "source": [
    "### Useful Tips and Tricks\n",
    "Untuk menentukan berapa jumlah data yang tersimpan di setiap elemen pada tuple/list, aku dapat menggunakan fungsi buit-in **len()**. Kemudian kita juga dapat mengubah tipe data yang satu menjadi tipe data yang lain."
   ]
  },
  {
   "cell_type": "code",
   "execution_count": 16,
   "id": "852a9ec1",
   "metadata": {},
   "outputs": [
    {
     "name": "stdout",
     "output_type": "stream",
     "text": [
      ">>> Tuple\n",
      "4\n",
      ">>> List\n",
      "4\n",
      ">>> Konversi tipe data\n",
      "{'Markisa', 'Apel', 'Jeruk'}\n",
      "['Apel', 'Jeruk', 'Markisa']\n"
     ]
    }
   ],
   "source": [
    "# Tuple\n",
    "print(\">>> Tuple\")\n",
    "tuple_menu = ('Gado-gado','Ayam Goreng','Rendang','Ketoprak')\n",
    "jumlah_menu = len(tuple_menu)\n",
    "print(jumlah_menu)\n",
    "# List\n",
    "print(\">>> List\")\n",
    "list_menu = ['Gado-gado','Ayam Goreng','Rendang','Ketoprak']\n",
    "jumlah_menu = len(list_menu)\n",
    "print(jumlah_menu)\n",
    "# Konversi tipe data\n",
    "print(\">>> Konversi tipe data\")\n",
    "list_buah = ['Apel', 'Apel', 'Jeruk', 'Markisa', 'Jeruk', 'Markisa', 'Apel']\n",
    "set_buah = set(list_buah)\n",
    "print(set_buah)\n",
    "list_buah = list(set_buah)\n",
    "list_buah.sort()\n",
    "print(list_buah)"
   ]
  },
  {
   "cell_type": "markdown",
   "id": "2e5e80ae",
   "metadata": {},
   "source": [
    "### Tugas Praktek\n",
    "Dari variabel keuangan, aku akan menghitung rata-rata pengeluaran dan pemasukanku selama 9 bulan terakhir. Semoga keuanganku sehat-sehat saja."
   ]
  },
  {
   "cell_type": "code",
   "execution_count": 18,
   "id": "55c7dbb8",
   "metadata": {},
   "outputs": [
    {
     "name": "stdout",
     "output_type": "stream",
     "text": [
      "2.8277777777777775\n",
      "7.8999999999999995\n"
     ]
    }
   ],
   "source": [
    "# Data keuangan\n",
    "keuangan = {'pengeluaran': [2, 2.5, 2.25, 2.5, 3.2, 2.5, 3.5, 4, 3],\n",
    "            'pemasukan': [7.8, 7.5, 9, 7.6, 7.2, 7.5, 7, 10, 7.5]}\n",
    "# Perhitungan rata-rata pemasukan dan rata-rata pengeluaran\n",
    "total_pengeluaran = 0\n",
    "total_pemasukan = 0\n",
    "for biaya in keuangan['pengeluaran']: \n",
    "    total_pengeluaran += biaya\n",
    "for biaya in keuangan['pemasukan']: \n",
    "    total_pemasukan += biaya\n",
    "rata_rata_pengeluaran = total_pengeluaran / len(keuangan['pengeluaran'])\n",
    "rata_rata_pemasukan = total_pemasukan / len(keuangan['pemasukan'])\n",
    "print(rata_rata_pengeluaran) \n",
    "print(rata_rata_pemasukan)"
   ]
  },
  {
   "cell_type": "markdown",
   "id": "63d5b911",
   "metadata": {},
   "source": [
    "## [String Manipulation dengan Python]\n",
    "### Tinjauan Ulang String pada Python\n",
    "Seperti yang telah aku pelajari pada bab sebelumnya, layaknya general-purpose programming language lainnya, Python mengizinkan aku untuk mengolah berbagai berbagai tipe data, tak terkecuali tipe data text. Dalam Python, tipe data text dapat aku deklarasikan sebagai sebuah string dengan mengapitnya menggunakan tanda kutip satu ataupun tanda kutip dua. Sebagai contoh:"
   ]
  },
  {
   "cell_type": "code",
   "execution_count": 19,
   "id": "8278d38e",
   "metadata": {},
   "outputs": [
    {
     "name": "stdout",
     "output_type": "stream",
     "text": [
      "Sepatu Niko\n",
      "Busana Pria\n"
     ]
    }
   ],
   "source": [
    "nama_produk = \"Sepatu Niko\"\n",
    "kategori_produk = 'Busana Pria'\n",
    "print(nama_produk)\n",
    "print(kategori_produk)"
   ]
  },
  {
   "cell_type": "markdown",
   "id": "dada4f7b",
   "metadata": {},
   "source": [
    "Cara diatas adalah dua cara yang valid untuk mendeklarasikan variabel dengan bertipe string. kemudian, untuk mendeklarasikan tipe data string kedalam beberapa baris, aku dapat melakukannya dengan mengapitnya dengan tanda kutip satu maupun tanda kutip dua sebanyak 6 kali (3 kali dibagian awal dan 3 dibagian bawah)."
   ]
  },
  {
   "cell_type": "code",
   "execution_count": 21,
   "id": "82b62632",
   "metadata": {},
   "outputs": [
    {
     "name": "stdout",
     "output_type": "stream",
     "text": [
      "\n",
      "Sepatu Niko merupakan sepatu yang aerodinamis.\n",
      "Sepatu ini tersedia dalam berbagai ukuran.\n",
      "Untuk Anda yang berminat dengan sepatu ini, dapat hubungi 08XX-XXXX-XXXX\n"
     ]
    }
   ],
   "source": [
    "deskripsi_produk = '''\n",
    "Sepatu Niko merupakan sepatu yang aerodinamis.\n",
    "Sepatu ini tersedia dalam berbagai ukuran.\n",
    "Untuk Anda yang berminat dengan sepatu ini, dapat hubungi 08XX-XXXX-XXXX'''\n",
    "print(deskripsi_produk)"
   ]
  },
  {
   "cell_type": "markdown",
   "id": "1b49ff80",
   "metadata": {},
   "source": [
    "### Apa itu Strung Manipulation?\n",
    "Aku belajar bahwa String Manipulation adalah teknik yang digunakan dalam memanipulasi data yang disimpan dalam tipe data **str**. Pada bahasa Python, untuk mempermudah proses pengolahan data, tipe data string dapat diperlakukan layaknya seperti tipe data list."
   ]
  },
  {
   "cell_type": "code",
   "execution_count": 22,
   "id": "b53195b5",
   "metadata": {},
   "outputs": [
    {
     "name": "stdout",
     "output_type": "stream",
     "text": [
      "SePatu NiKo\n",
      "SePatu \n",
      "NiKo\n",
      "11\n"
     ]
    }
   ],
   "source": [
    "nama_produk = \"Sepatu Niko\"\n",
    "nama_produk = nama_produk[:2] + \"P\" + nama_produk[3:9] + \"K\" + nama_produk[-1]\n",
    "print(nama_produk)\n",
    "print(nama_produk[:7])\n",
    "print(nama_produk[7:])\n",
    "print(len(nama_produk))"
   ]
  },
  {
   "cell_type": "markdown",
   "id": "2beecbc1",
   "metadata": {},
   "source": [
    "Catatan: fungsi built-in len() juga dapat digunakan untuk menentukan jumlah karakter pada variabel bertipe string yang dimiliki.\n",
    "\n",
    "### Operator “+” untuk Tipe Data String"
   ]
  },
  {
   "cell_type": "code",
   "execution_count": 23,
   "id": "62d3961a",
   "metadata": {},
   "outputs": [
    {
     "name": "stdout",
     "output_type": "stream",
     "text": [
      "John Doee\n",
      "Hi, saya John Doee umur 27 tahun, tinggal di Jl. Anggrek No. 100.\n"
     ]
    }
   ],
   "source": [
    "nama_depan = 'John'\n",
    "nama_belakang = 'Doee'\n",
    "nama_lengkap = nama_depan + ' ' + nama_belakang\n",
    "print(nama_lengkap)\n",
    "\n",
    "umur = '27 tahun'\n",
    "alamat = 'Jl. Anggrek No. 100'\n",
    "nama_umur_alamat = 'Hi, saya ' + nama_lengkap + ' umur ' + umur + ', tinggal di ' + alamat + '.'\n",
    "print(nama_umur_alamat)"
   ]
  },
  {
   "cell_type": "markdown",
   "id": "5db30c7a",
   "metadata": {},
   "source": [
    "### Menghilangkan Spasi di Awal dan/atau di Akhir\n",
    "Beberapa fitur dan kegunaannya.\n",
    "1. **.strip()** : Menghilangkan kelebihan spasi pada awal dan akhir string.\n",
    "2. **.lstrip()** : Menghilangkan kelebihan spasi pada awal string.\n",
    "3. **.rstrip()** : Menghilangkan kelebihan spasi pada akhir string."
   ]
  },
  {
   "cell_type": "code",
   "execution_count": 24,
   "id": "1ec2a15e",
   "metadata": {},
   "outputs": [
    {
     "name": "stdout",
     "output_type": "stream",
     "text": [
      ">>> Fitur .strip()\n",
      "halo, selamat siang!\n",
      ">>> Fitur .lstrip()\n",
      "halo, selamat siang! \n",
      ">>> Fitur .rstrip()\n",
      " halo, selamat siang!\n"
     ]
    }
   ],
   "source": [
    "# Fitur .strip()\n",
    "print(\">>> Fitur .strip()\")\n",
    "kata_sambutan = ' halo, selamat siang! '\n",
    "kata_sambutan = kata_sambutan.strip()\n",
    "print(kata_sambutan)\n",
    "# Fitur .lstrip()\n",
    "print(\">>> Fitur .lstrip()\")\n",
    "kata_sambutan = ' halo, selamat siang! '\n",
    "kata_sambutan = kata_sambutan.lstrip()\n",
    "print(kata_sambutan)\n",
    "# Fitur .rstrip()\n",
    "print(\">>> Fitur .rstrip()\")\n",
    "kata_sambutan = ' halo, selamat siang! '\n",
    "kata_sambutan = kata_sambutan.rstrip()\n",
    "print(kata_sambutan)"
   ]
  },
  {
   "cell_type": "markdown",
   "id": "7d622415",
   "metadata": {},
   "source": [
    "### Merubah Caps pada String\n",
    "Beberapa fitur dan kegunaannya.\n",
    "1. **.capitalize()** : Mengubah elemen pertama dari string menjadi huruf kapital\n",
    "2. **.lower()** : Mengubah seluruh huruf dalam teks (string) menjadi huruf kecil\n",
    "3. **.upper()** : Mengubah seluruh huruf dalam teks (string) menjadi huruf besar"
   ]
  },
  {
   "cell_type": "code",
   "execution_count": 25,
   "id": "ba955345",
   "metadata": {},
   "outputs": [
    {
     "name": "stdout",
     "output_type": "stream",
     "text": [
      ">>> Fitur .capitalize()\n",
      "Belajar bahasa python\n",
      ">>> Fitur .lower()\n",
      "belajar bahasa python.\n",
      ">>> Fitur .upper()\n",
      "BELAJAR BAHASA PYTHON.\n"
     ]
    }
   ],
   "source": [
    "# Fitur .capitalize()\n",
    "print(\">>> Fitur .capitalize()\")\n",
    "judul_buku = 'belajar bahasa Python'\n",
    "print(judul_buku.capitalize())\n",
    "# Fitur .lower()\n",
    "print(\">>> Fitur .lower()\")\n",
    "judul_buku = 'Belajar Bahasa PYTHON.'\n",
    "print(judul_buku.lower())\n",
    "# Fitur .upper()\n",
    "print(\">>> Fitur .upper()\")\n",
    "judul_buku = 'Belajar Bahasa PYTHON.'\n",
    "print(judul_buku.upper())"
   ]
  },
  {
   "cell_type": "markdown",
   "id": "24f56edf",
   "metadata": {},
   "source": [
    "### Pemecahan, Penggabungan, dan Penggantian String\n",
    "Pada bagian ini, aku akan mempelajari bagaimana cara memecah suatu string dengan kondisi tertentu sehingga menghasilkan list of string. Kemudian, akan dipelajari bagaimana cara menggabungkan beberapa list of string menjadi string saja. Akhirnya, aku akan mengganti sub-string tertentu dengan sub-string lainnya sehingga mengubah string awalnya.\n",
    "\n",
    "Beberapa fitur dan kegunaannya.\n",
    "1. **.split()** : Memecah sebuah string berdasarkan string lainnya ke dalam sebuah list.\n",
    "2. **.join()** : Menggabungkan sebuah list yang berisikan string berdasarkan sebuah string yang telah didefinisikan.\n",
    "3. **.replace()** : Menggantikan kemunculan suatu string tertentu dengan string lainnya dalam sebuah string."
   ]
  },
  {
   "cell_type": "code",
   "execution_count": 26,
   "id": "b7e98e0a",
   "metadata": {},
   "outputs": [
    {
     "name": "stdout",
     "output_type": "stream",
     "text": [
      ">>> Fitur .split()\n",
      "['ani', 'budi', 'wati', 'johan']\n",
      "['ani', 'dan', 'budi', 'dan', 'wati', 'dan', 'johan']\n",
      ">>> Fitur .join()\n",
      "Ricky dan Peter dan Jordan\n",
      "Ricky Peter Jordan\n",
      ">>> Fitur .replace()\n",
      "jeruk malang jeruk yang paling segar, jeruk sehat, jeruk nikmat\n"
     ]
    }
   ],
   "source": [
    "# Fitur .split()\n",
    "print(\">>> Fitur .split()\")\n",
    "frasa = \"ani dan budi dan wati dan johan\"\n",
    "karakter = frasa.split(\" dan \")\n",
    "print(karakter)\n",
    "kata = frasa.split(\" \")\n",
    "print(kata)\n",
    "# Fitur .join()\n",
    "print(\">>> Fitur .join()\")\n",
    "pemisah = \" dan \"\n",
    "karakter = [\"Ricky\", \"Peter\", \"Jordan\"]\n",
    "frasa = pemisah.join(karakter)\n",
    "print(frasa)\n",
    "frasa = \" \".join(karakter)\n",
    "print(frasa)\n",
    "# Fitur .replace()\n",
    "print(\">>> Fitur .replace()\")\n",
    "frasa = \"apel malang apel yang paling segar, apel sehat, apel nikmat\"\n",
    "frasa = frasa.replace(\"apel\", \"jeruk\")\n",
    "print(frasa)"
   ]
  },
  {
   "cell_type": "markdown",
   "id": "018c33d4",
   "metadata": {},
   "source": [
    "### Menentukan Posisi dan Jumlah Sub-string pada String\n",
    "Pada bagian ini, aku akan mempelajari bagaimana cara menentukan posisi awal suatu sub-string dan jumlah kemunculan sub-string tersebut pada suatu string agar lebih memahami bagaimana penerapannya pada Python.\n",
    "\n",
    "Beberapa fitur dan kegunaannya.\n",
    "1. **.find()** : Mengembalikan posisi dari sebuah teks (sub-string) lainnya dalam sebuah string.\n",
    "2. **.count()** : Menghitung jumlah kemunculan sebuah teks (string) lainnya dalam suatu string (string yang dicari bersifat case sensitive)."
   ]
  },
  {
   "cell_type": "code",
   "execution_count": 27,
   "id": "4c651ace",
   "metadata": {},
   "outputs": [
    {
     "name": "stdout",
     "output_type": "stream",
     "text": [
      ">>> Fitur .find()\n",
      "0\n",
      "5\n",
      ">>> Fitur .count()\n",
      "3\n"
     ]
    }
   ],
   "source": [
    "teks = \"Apel malang adalah apel termanis dibanding apel-apel lainnya\"\n",
    "# Fitur .find()\n",
    "print(\">>> Fitur .find()\")\n",
    "print(teks.find(\"Apel\"))\n",
    "print(teks.find(\"malang\"))\n",
    "# Fitur .count()\n",
    "print(\">>> Fitur .count()\")\n",
    "kemunculan_kata_apel = teks.count(\"apel\")\n",
    "print(kemunculan_kata_apel)"
   ]
  },
  {
   "cell_type": "markdown",
   "id": "7a91f090",
   "metadata": {},
   "source": [
    "### Menentukan String Apakah Diawali/Diakhiri oleh Sub-string\n",
    "Pada bagian ini, aku akan mempelajari bagaimana menentukan apakah suatu string diawali atau diakhiri dengan suatu substring (teks) tertentu.\n",
    "\n",
    "Beberapa fitur dan kegunaannya.\n",
    "1. **.startswith()** : Mengembalikan nilai kebenaran True ketika sebuah teks (string) diawali dengan sebuah teks lainnya.\n",
    "2. **.endswith()** : Mengembalikan nilai kebenaran True ketika sebuah teks (string) diakhiri dengan sebuah teks lainnya."
   ]
  },
  {
   "cell_type": "code",
   "execution_count": 28,
   "id": "85627834",
   "metadata": {},
   "outputs": [
    {
     "name": "stdout",
     "output_type": "stream",
     "text": [
      ">>> Fitur .startswith()\n",
      "True\n",
      "False\n",
      ">>> Fitur .endswith()\n",
      "True\n",
      "False\n"
     ]
    }
   ],
   "source": [
    "# Fitur .startswith()\n",
    "print(\">>> Fitur .startswith()\")\n",
    "teks = \"Apel malang adalah apel termanis dibanding apel-apel lainnya\"\n",
    "print(teks.startswith(\"Apel\"))\n",
    "print(teks.startswith(\"apel\"))\n",
    "# Fitur .endswith()\n",
    "print(\">>> Fitur .endswith()\")\n",
    "print(teks.endswith(\"lainnya\"))\n",
    "print(teks.endswith(\"apel\"))"
   ]
  },
  {
   "cell_type": "markdown",
   "id": "d422af2c",
   "metadata": {},
   "source": [
    "### Tugas Praktek\n",
    "Aku mengeklik dokumen PENGOLAHAN DATA TEKS. Di dalamnya aku diminta untuk meneliti popularitas antara buah salak dan buah jeruk berdasarkan judul artikel yang muncul di majalah Buah Sehat. Kemudian menentukan apakah kata yang muncul itu bermuatan positif atau tidak."
   ]
  },
  {
   "cell_type": "code",
   "execution_count": 29,
   "id": "d9d66b89",
   "metadata": {},
   "outputs": [
    {
     "name": "stdout",
     "output_type": "stream",
     "text": [
      "10\n",
      "11\n"
     ]
    }
   ],
   "source": [
    "judul_artikel = [\n",
    "\"Buah Salak Baik untuk Mata\", \"Buah Salak Kaya Potasium\", \n",
    "\"Buah Jeruk Kaya Vitamin C\", \"Buah Salak Kaya Manfaat\", \n",
    "\"Salak Baik untuk Jantung\", \"Jeruk dapat Memperkuat Tulang\", \n",
    "\"Jeruk Mencegah Penyakit Asma\", \"Jeruk Memperkuat Gigi\", \n",
    "\"Jeruk Mencegah Kolesterol Jahat\", \"Salak Mencegah Diabetes\", \n",
    "\"Salak Memperkuat Dinding Usus\", \"Salak Baik untuk Darah\",\n",
    "\"Jeruk Kaya Manfaat untuk Jantung\", \"Salak si Kecil yang Baik\", \n",
    "\"Jeruk dan Salak Buah Kaya Manfaat\", \"Buah Jeruk Enak\",\n",
    "\"Tips Panen Jeruk Ribuan Kilo\", \"Tips Bertanam Salak\", \n",
    "\"Salak Manis untuk Berbuka\", \"Jeruk Baik untuk Wajah\"\n",
    "]\n",
    "jumlah_artikel_jeruk = 0\n",
    "jumlah_artikel_salak = 0\n",
    "for judul in judul_artikel:\n",
    "    if judul.count(\"Jeruk\") > 0: \n",
    "        jumlah_artikel_jeruk += 1\n",
    "    if judul.count(\"Salak\") > 0:\n",
    "        jumlah_artikel_salak += 1\n",
    "print(jumlah_artikel_jeruk) \n",
    "print(jumlah_artikel_salak)"
   ]
  },
  {
   "cell_type": "code",
   "execution_count": 30,
   "id": "9b1506d2",
   "metadata": {},
   "outputs": [
    {
     "name": "stdout",
     "output_type": "stream",
     "text": [
      "8\n",
      "9\n"
     ]
    }
   ],
   "source": [
    "kata_positif = [\"Kaya\", \"Baik\", \"Mencegah\", \"Memperkuat\"]\n",
    "kata_positif_jeruk = 0\n",
    "kata_positif_salak = 0\n",
    "for judul in judul_artikel: \n",
    "    for kata in kata_positif:\n",
    "        if judul.count(\"Jeruk\") > 0 and judul.count(kata) > 0: \n",
    "            kata_positif_jeruk += 1\n",
    "        if judul.count(\"Salak\") > 0 and judul.count(kata) > 0:\n",
    "            kata_positif_salak += 1\n",
    "print(kata_positif_jeruk) \n",
    "print(kata_positif_salak)"
   ]
  },
  {
   "cell_type": "markdown",
   "id": "57d04a1d",
   "metadata": {},
   "source": [
    "## [Functions]\n",
    "### Apa itu Functions?\n",
    "Function adalah sebuah blok statemen yang hanya akan dijalankan saat ia dipanggil. Secara tidak sadar, selama proses belajar ini, aku telah mencoba menggunakan fungsi-fungsi dalam bahasa pemrograman Python.\n",
    "\n",
    "Fungsi **len()** untuk mengukur jumlah elemen dalam sebuah list dan fungsi **print()** untuk menampilkan pesan pada layar konsol merupakan contoh dari bentuk fungsi yang telah disediakan oleh bahasa pemrograman Python, atau dengan kata lain built-in functions.\n",
    "\n",
    "Selain fungsi yang telah disediakan oleh Python, Python mengizinkan aku untuk mendeklarasikan fungsi dalam kode yang aku tuliskan yang dikenal dengan **user defined function**.\n",
    "\n",
    "    def nama_fungsi(argument):\n",
    "        statement_1\n",
    "        …\n",
    "        statement_n\n",
    "        return returned_value\n",
    "\n",
    "Aku menuliskan dalam catatanku:\n",
    "1. *nama_fungsi* adalah nama untuk fungsi yang kita definisikan, memiliki aturan seperti penamaan variabel\n",
    "2. *argument* adalah variabel masukan ke fungsi, bisa tanpa variabel, satu variabel atau lebih\n",
    "3. *statement_1* … statement_n adalah algoritma yang telah kita transfer dalam bahasa Python. Ini merupakan inti dari fungsi yang kita definisikan. Seluruh statement adalah menjorok (indent) ke dalam seperti yang pernah dipelajari pada conditioning dan looping\n",
    "4. *return_value* adalah variabel output dari fungsi kita. Bisa tanpa variabel, satu variabel, atau lebih.\n",
    "\n",
    "### Fungsi Pertama\n",
    "contoh_fungsi merupakan nama dari fungsi yang aku deklarasikan dan statemen-statemen di dalamnya disebut sebagai isi (body) dari fungsi."
   ]
  },
  {
   "cell_type": "code",
   "execution_count": 31,
   "id": "24ea8560",
   "metadata": {},
   "outputs": [
    {
     "name": "stdout",
     "output_type": "stream",
     "text": [
      "Halo Dunia\n",
      "Aku sedang belajar bahasa Python\n"
     ]
    }
   ],
   "source": [
    "# Definisikan fungsi\n",
    "def contoh_fungsi():\n",
    "    print(\"Halo Dunia\")\n",
    "    print(\"Aku sedang belajar bahasa Python\")\n",
    "# Panggil fungsi yang telah didefinisikan\n",
    "contoh_fungsi()"
   ]
  },
  {
   "cell_type": "markdown",
   "id": "eb464096",
   "metadata": {},
   "source": [
    "### Fungsi Kedua\n",
    "Sebuah fungsi dapat menerima serangkaian argumen pada bagian dalam kurung setelah nama fungsi telah aku definisikan.\n",
    "\n",
    "fungsi_dengan_argumen membutuhkan dua argumen (nama_depan, nama_belakang).\n",
    "Python akan menjalankan sebuah fungsi hanya ketika aku telah mensuplai jumlah argumen yang sesuai saat fungsi didefinisikan."
   ]
  },
  {
   "cell_type": "code",
   "execution_count": 32,
   "id": "e76d4653",
   "metadata": {},
   "outputs": [
    {
     "name": "stdout",
     "output_type": "stream",
     "text": [
      "John Doe\n"
     ]
    }
   ],
   "source": [
    "# Definsikan fungsi \n",
    "def fungsi_dengan_argumen(nama_depan, nama_belakang):\n",
    "    print(nama_depan + \" \" + nama_belakang)\n",
    "# Panggil fungsi dengan memasukkan argumen\n",
    "# nama_depan yaitu \"John\" dan nama_belakang \"Doe\"\n",
    "fungsi_dengan_argumen(\"John\", \"Doe\")"
   ]
  },
  {
   "cell_type": "markdown",
   "id": "33516815",
   "metadata": {},
   "source": [
    "### Fungsi Ketiga\n",
    "Saat aku melakukan pemanggilan fungsi dengan jumlah argumen yang tidak sesuai, Python akan mengembalikan pesan error yang menyatakan bahwa terdapat argumen yang belum disuplai agar fungsi dapat dijalankan dengan baik.\n",
    "\n",
    "Berikut ini adalah contoh pesan error yang akan dikembalikan oleh Python saat aku hanya menyuplai satu argumen saja untuk fungsi_dengan_argumen:\n",
    "\n",
    "    Type Error: function fungsi_dengan_argumen() missing 1 required positional argument: nama_belakang\n",
    "\n",
    "Bahasa Python mengizinkan aku untuk memberikan suatu nilai default terkait dengan sebuah argumen dalam sebuah fungsi. Melalui fitur ini, suatu argumen dalam sebuah fungsi akan bersifat opsional."
   ]
  },
  {
   "cell_type": "code",
   "execution_count": 33,
   "id": "314cc727",
   "metadata": {},
   "outputs": [
    {
     "name": "stdout",
     "output_type": "stream",
     "text": [
      "John \n",
      "John Doe\n"
     ]
    }
   ],
   "source": [
    "# Definsikan fungsi dengan nilai default argument kedua adalah \"\".\n",
    "def fungsi_dengan_argumen(nama_depan, nama_belakang = \"\"):\n",
    "\tprint(nama_depan + \" \" + nama_belakang)\n",
    "# Panggil fungsi dengan memasukkan argumen nama_depan \"John\"\n",
    "fungsi_dengan_argumen(\"John\")\n",
    "# Panggil fungsi dengan memasukkan argumen\n",
    "# nama_depan yaitu \"John\" dan nama_belakang \"Doe\"\n",
    "fungsi_dengan_argumen(\"John\", \"Doe\")"
   ]
  },
  {
   "cell_type": "markdown",
   "id": "2a991a1d",
   "metadata": {},
   "source": [
    "**Catatan**: Argumen nama_belakang menjadi bersifat opsional saat fungsi dipanggil. Jika argumen kedua tidak disuplai Python, akan secara otomatis menset argumen nama_belakang menjadi string kosong - empty string (\"\")."
   ]
  },
  {
   "cell_type": "markdown",
   "id": "50b7d0e5",
   "metadata": {},
   "source": [
    "### Tugas Praktek 1\n",
    "Menentukan nilai rata-rata dan standar deviasi untuk data yang sudah dalam bentuk list of numeric bertipe int/float."
   ]
  },
  {
   "cell_type": "code",
   "execution_count": 35,
   "id": "dc425bf9",
   "metadata": {},
   "outputs": [
    {
     "name": "stdout",
     "output_type": "stream",
     "text": [
      "Rata-rata data1:\n",
      "105.0\n",
      "Rata-rata data2:\n",
      "73.0\n",
      "Standar deviasi data1:\n",
      "28.722813232690143\n",
      "Standar deviasi data2:\n",
      "17.916472867168917\n"
     ]
    }
   ],
   "source": [
    "# Dua buah data yang tersimpan dalam tipe list\n",
    "data1 = [70, 70, 70, 100, 100, 100, 120, 120, 150, 150]\n",
    "data2 = [50, 60, 60, 50, 70, 70, 100, 80, 100, 90]\n",
    "# Definisikan fungsi hitng_rata_rata\n",
    "def hitung_rata_rata(data):\n",
    "    jumlah = 0\n",
    "    for item in data:\n",
    "        jumlah += item\n",
    "    rata_rata = jumlah/len(data)\n",
    "    return rata_rata\n",
    "\n",
    "# Definisikan fungsi hitung_standar_deviasi\n",
    "def hitung_standar_deviasi(data):\n",
    "    rata_rata_data = hitung_rata_rata(data)\n",
    "    varians = 0\n",
    "    for item in data:\n",
    "        varians += (item - rata_rata_data) ** 2\n",
    "    varians /= len(data)\n",
    "    standar_deviasi = varians ** (1/2)\n",
    "    return standar_deviasi\n",
    "\n",
    "# Hitung nilai rata-rata dari kedua data yang dimiliki\n",
    "print('Rata-rata data1:')\n",
    "print(hitung_rata_rata(data1))\n",
    "print('Rata-rata data2:')\n",
    "print(hitung_rata_rata(data2))\n",
    "\n",
    "# Hitung nilai standar deviasi dari kedua data yang dimiliki\n",
    "print('Standar deviasi data1:')\n",
    "print(hitung_standar_deviasi(data1))\n",
    "print('Standar deviasi data2:')\n",
    "print(hitung_standar_deviasi(data2))"
   ]
  },
  {
   "cell_type": "markdown",
   "id": "b936ecab",
   "metadata": {},
   "source": [
    "### Tugas Praktek 2\n",
    "Menentukan nilai-rata dan standar deviasi dari data di tabel."
   ]
  },
  {
   "attachments": {
    "image.png": {
     "image/png": "[encoded data removed]"
    }
   },
   "cell_type": "markdown",
   "id": "e9c2ba13",
   "metadata": {},
   "source": [
    "![image.png](attachment:image.png)"
   ]
  },
  {
   "cell_type": "code",
   "execution_count": 36,
   "id": "376b6c90",
   "metadata": {},
   "outputs": [
    {
     "name": "stdout",
     "output_type": "stream",
     "text": [
      "Rata-rata luas_tanah:\n",
      "105.0\n",
      "Standar deviasi luas_tanah:\n",
      "14.93311056335886\n",
      "\n",
      "Rata-rata luas_bangunan:\n",
      "73.0\n",
      "Standar deviasi luas_bangunan:\n",
      "6.025948374480153\n",
      "\n",
      "Rata-rata jarak:\n",
      "34.0\n",
      "Standar deviasi jarak:\n",
      "6.24005184770928\n",
      "\n",
      "Rata-rata harga:\n",
      "1155.0\n",
      "Standar deviasi harga:\n",
      "587.0594351517378\n",
      "\n"
     ]
    }
   ],
   "source": [
    "# Data properti\n",
    "tabel_properti = {\n",
    "'luas_tanah': [70, 70, 70, 100, 100, 100, 120, 120, 150, 150],\n",
    "'luas_bangunan': [50, 60, 60, 50, 70, 70, 100, 80, 100, 90],\n",
    "'jarak': [15, 30, 55, 30, 25, 50, 20, 50, 50, 15],\n",
    "'harga': [500, 400, 300, 700, 1000, 650, 2000, 1200, 1800, 3000]\n",
    "}\n",
    "# Fungsi rata-rata data\n",
    "def hitung_rata_rata(data):\n",
    "    jumlah = 0\n",
    "    for item in data:\n",
    "        jumlah += item\n",
    "    rata_rata = jumlah/len(data)\n",
    "    return rata_rata\n",
    "# Fungsi hitung_standar_deviasi\n",
    "def hitung_standar_deviasi(data):\n",
    "    rata_rata_data = hitung_rata_rata(data)\n",
    "    varians = 0\n",
    "    for item in data:\n",
    "        varians += (item - rata_rata_data) ** 2\n",
    "        varians /= len(data)\n",
    "    standar_deviasi = varians ** (1/2)\n",
    "    return standar_deviasi\n",
    "# Definisikan fungsi untuk menghitung rata-rata dan standar deviasi\n",
    "# setiap kolom pada tabel_properti yang diberikan oleh key dict.\n",
    "def deskripsi_properti(tabel):\n",
    "    for key in tabel.keys():\n",
    "        print('Rata-rata ' + key + ':')\n",
    "        print(hitung_rata_rata(tabel[key])) \n",
    "        print('Standar deviasi ' + key + ':')\n",
    "        print(hitung_standar_deviasi(tabel[key]))\n",
    "        print('')\n",
    "# Panggil fungsi deskripsi_properti untuk menghitung rata-rata \n",
    "# dan standar deviasi setiap kolom pada tabel_properti\n",
    "deskripsi_properti(tabel_properti)"
   ]
  },
  {
   "cell_type": "markdown",
   "id": "b843e03f",
   "metadata": {},
   "source": [
    "## [Manipulasi Berkas Teks dan Library Matematika pada Python]\n",
    "### Membaca File di Local Computer\n",
    "Pengolahan berkas teks pada Python tidak membutuhkan proses import dependencies lainnya seperti pada bahasa-bahasa pemrograman lainnya. Untuk memanipulasi berkas teks pada bahasa pemrograman Python, mula-mula aku harus membuka/membuat berkas teks yang aku inginkan dengan menggunakan fungsi **open()**. Fungsi open() menerima 2 parameter, di mana parameter pertama merupakan nama dari file yang ingin dibuka/dibuat dan mode yang berkaitan dengan aksi yang ingin dilakukan terhadap file yang telah terbuka. Sebagai contoh:\n",
    "\n",
    "    file = open(\"hello.txt\", \"r\")\n",
    "\n",
    "Argumen/parameter \"**r**\" mengartikan bahwa file yang akan dibuka berada dalam mode “read” sehingga nantinya aku tidak dapat menambahkan/ menuliskan ulang isi tulisan dari file \"**hello.txt**\".\n",
    "\n",
    "Perintah ini dapat digunakan untuk menutup file yang telah aku buka.\n",
    "\n",
    "    file.close()\n",
    "\n",
    "Aku juga belajar bahwa selain mode \"r\" yang hanya digunakan untuk membaca file, terdapat juga **mode lainnya** seperti:\n",
    "1. **w**: write, mode ini dapat aku gunakan untuk menulis ke dalam sebuah berkas teks. Jika berkas tidak tersedia, maka Python akan secara otomatis membuat sebuah berkas baru dengan nama yang telah di spesifikasikan. Saat menulis dengan menggunakan mode ini, jika file semula tidak kosong, maka isi yang sebelumnya terdapat di dalam berkas akan terhapus.\n",
    "2. **a**: append, mode ini dapat aku gunakan untuk menambahkan isi dari sebuah berkas teks. Mode ini juga akan membuat sebuah berkas teks baru dengan nama yang telah kita spesifikasikan jika berkas teks tidak tersedia.\n",
    "3. **w+**: write+, mode ini dapat aku gunakan untuk membaca ataupun menuliskan isi dari sebuah berkas teks.\n",
    "4. **a+**: append+, mode ini dapat aku gunakan untuk membaca ataupun menambahkan isi dari sebuah berkas teks.\n",
    "\n",
    "\n",
    "### Membaca File dari URL\n",
    "Berkas teks yang berada di suatu alamat di internet dapat dibaca berdasarkan url-nya. Untuk membacanya aku perlu menggunakan **library requests**. File hello.txt yang aku temui di local komputer ku juga ada di url berikut https://storage.googleapis.com/dqlab-dataset/hello.txt. \n",
    "\n",
    "Akhirnya, aku dapat menggunakan kode berikut\n",
    "\n",
    "    import requests\n",
    "    url = \"https://storage.googleapis.com/dqlab-dataset/hello.txt\"\n",
    "    response = requests.get(url)"
   ]
  },
  {
   "cell_type": "markdown",
   "id": "5c4c25c8",
   "metadata": {},
   "source": [
    "### Membaca Berkas Teks dengan Fungsi .read() dan .readline()"
   ]
  },
  {
   "cell_type": "markdown",
   "id": "4609056b",
   "metadata": {},
   "source": [
    "Selain dapat membaca dan menampung isi dari sebuah berkas secara sekaligus menggunakan fungsi read(), aku juga dapat menggunakan fungsi readline() ataupun readlines() untuk membaca isi dari suatu berkas teks. Dengan menggunakan fungsi readline(), Python akan membaca konten dari sebuah berkas secara baris per baris, dimulai dari baris paling awal."
   ]
  },
  {
   "cell_type": "code",
   "execution_count": 39,
   "id": "e700fd31",
   "metadata": {},
   "outputs": [
    {
     "name": "stdout",
     "output_type": "stream",
     "text": [
      ">>> Membaca file hello.txt dengan fungsi read()\n",
      "Kita sedang belajar Python\n",
      "Tepatnya belajar memanipulasi berkas teks\n",
      "Memanipulasi berkas dengan Python sangatlah mudah!\n",
      "\n",
      ">>> Membaca file hello.txt dengan fungsi readline()\n",
      "Kita sedang belajar Python\n",
      "\n",
      "Tepatnya belajar memanipulasi berkas teks\n",
      "\n"
     ]
    }
   ],
   "source": [
    "# Membaca file hello.txt dengan fungsi read()\n",
    "print(\">>> Membaca file hello.txt dengan fungsi read()\")\n",
    "file = open(\"hello.txt\", \"r\")\n",
    "content = file.read()\n",
    "file.close()\n",
    "print(content)\n",
    "print()\n",
    "# Membaca file hello.txt dengan fungsi readline()\n",
    "print(\">>> Membaca file hello.txt dengan fungsi readline()\")\n",
    "file = open(\"hello.txt\", \"r\")\n",
    "first_line = file.readline()\n",
    "second_line = file.readline()\n",
    "file.close()\n",
    "print(first_line)\n",
    "print(second_line)"
   ]
  },
  {
   "cell_type": "code",
   "execution_count": 40,
   "id": "b9c97a80",
   "metadata": {},
   "outputs": [
    {
     "name": "stdout",
     "output_type": "stream",
     "text": [
      "<Response [200]>\n",
      "\n",
      ">> Cetak isi file hello.txt menggunakan method response.iter_lines():\n",
      "b'Kita sedang belajar Python'\n",
      "b'Tepatnya belajar memanipulasi berkas teks'\n",
      "b'Memanipulasi berkas dengan Python sangatlah mudah!'\n"
     ]
    }
   ],
   "source": [
    "#membaca berkas teks yang sama yang berada di url\n",
    "\n",
    "import requests\n",
    "url = \"https://storage.googleapis.com/dqlab-dataset/hello.txt\"\n",
    "response = requests.get(url)\n",
    "# Cetak kode status dari response\n",
    "print(response)\n",
    "# Cetak isi file hello.txt menggunakan method response.iter_lines()\n",
    "print(\"\\n>> Cetak isi file hello.txt menggunakan method response.iter_lines():\")\n",
    "for baris in response.iter_lines():\n",
    "\tprint(baris)"
   ]
  },
  {
   "cell_type": "markdown",
   "id": "4df40a72",
   "metadata": {},
   "source": [
    "### Membaca Berkas Teks dengan Fungsi .readlines()\n",
    "Fungsi **readlines()** akan mengembalikan sebuah list yang setiap elemennya merupakan setiap baris dalam sebuah berkas teks. Selain menggunakan fungsi-fungsi standar yang telah disediakan oleh Python, aku juga dapat membaca isi dari sebuah file secara baris per baris dengan menggunakan **for loops**. Simaklah contoh berikut ini dengan tetap membaca file dari “hello.txt”"
   ]
  },
  {
   "cell_type": "code",
   "execution_count": 42,
   "id": "d729b1a4",
   "metadata": {},
   "outputs": [
    {
     "name": "stdout",
     "output_type": "stream",
     "text": [
      ">>> Membaca file hello.txt dengan fungsi readlines()\n",
      "['Kita sedang belajar Python\\n', 'Tepatnya belajar memanipulasi berkas teks\\n', 'Memanipulasi berkas dengan Python sangatlah mudah!']\n",
      "\n",
      ">>> Membaca file hello.txt dengan menerpkan looping\n",
      "Kita sedang belajar Python\n",
      "\n",
      "Tepatnya belajar memanipulasi berkas teks\n",
      "\n",
      "Memanipulasi berkas dengan Python sangatlah mudah!\n"
     ]
    }
   ],
   "source": [
    "# membaca file hello.txt dengan fungsi readlines()\n",
    "print('>>> Membaca file hello.txt dengan fungsi readlines()')\n",
    "file = open('hello.txt','r')\n",
    "all_lines = file.readlines()\n",
    "file.close()\n",
    "print(all_lines)\n",
    "print()\n",
    "\n",
    "# membaca file hello.txt dengan menerapkan looping\n",
    "print('>>> Membaca file hello.txt dengan menerpkan looping')\n",
    "file = open('hello.txt','r')\n",
    "for line in file:\n",
    "    print(line)"
   ]
  },
  {
   "cell_type": "markdown",
   "id": "473c6c83",
   "metadata": {},
   "source": [
    "### Menulis Berkas Teks dengan Mode W (Write)\n",
    "Untuk menuliskan isi dari suatu berkas, aku dapat menggunakan fungsi **write()** atau **writelines()** yang telah disediakan oleh Python. Sebelum masuk ke dalam contoh penggunaan fungsi write() atau writelines(), penting bagiku untuk mengingat bahwa mode yang aku spesifikasikan pada fungsi **open()** akan mempengaruhi bagaimana Python menuliskan isi ke dalam berkas teks. Jika aku menggunakan mode **w**, maka Python akan **menghapus seluruh isi dalam berkas sebelum menuliskan konten** yang aku spesifikasikan."
   ]
  },
  {
   "cell_type": "code",
   "execution_count": 43,
   "id": "704050c0",
   "metadata": {},
   "outputs": [],
   "source": [
    "# Menulis ke file hello.write.txt\n",
    "file = open('hello.txt','w')\n",
    "file.write('Sekarang kita belajar menulis dengan menggunakan Python')\n",
    "file.write('Menulis konten file dengan mode w (write)')\n",
    "file.close()"
   ]
  },
  {
   "cell_type": "code",
   "execution_count": 44,
   "id": "747127a7",
   "metadata": {},
   "outputs": [
    {
     "name": "stdout",
     "output_type": "stream",
     "text": [
      ">>> Membaca file hello.txt dengan fungsi read()\n",
      "Sekarang kita belajar menulis dengan menggunakan PythonMenulis konten file dengan mode w (write)\n"
     ]
    }
   ],
   "source": [
    "print(\">>> Membaca file hello.txt dengan fungsi read()\")\n",
    "file = open(\"hello.txt\", \"r\")\n",
    "content = file.read()\n",
    "file.close()\n",
    "print(content)"
   ]
  },
  {
   "cell_type": "markdown",
   "id": "88e0452a",
   "metadata": {},
   "source": [
    "### Menulis Berkas Teks dengan Mode A (Append)\n",
    "Ketika aku menulis pada berkas teks menggunakan mode **a**, Python **tidak akan menghapus isi dalam berkas dan hanya akan menambahkan konten**. Aku mempelajari contoh berikut untuk memahami penggunaan fungsi write() dan writelines()"
   ]
  },
  {
   "cell_type": "code",
   "execution_count": 45,
   "id": "4182d274",
   "metadata": {},
   "outputs": [],
   "source": [
    "# Menulis ke file dengan mode .append()\n",
    "file = open('hello.txt','a')\n",
    "file.writelines(['Sekarang kita belajar menulis dengan menggunakan Python','Menulis konten file dengan mode a (append)'])\n",
    "file.close()"
   ]
  },
  {
   "cell_type": "code",
   "execution_count": 46,
   "id": "0d02cf8a",
   "metadata": {},
   "outputs": [
    {
     "name": "stdout",
     "output_type": "stream",
     "text": [
      "Sekarang kita belajar menulis dengan menggunakan PythonMenulis konten file dengan mode w (write)Sekarang kita belajar menulis dengan menggunakan PythonMenulis konten file dengan mode a (append)\n"
     ]
    }
   ],
   "source": [
    "file = open('hello.txt','r')\n",
    "content = file.read()\n",
    "file.close()\n",
    "print(content)"
   ]
  },
  {
   "cell_type": "markdown",
   "id": "b33ae8a9",
   "metadata": {},
   "source": [
    "### Library Matematika pada Python\n",
    "Salah satu keunikan Python adalah library yang dimilikinya karena dapat di-extend dengan library yang didefinisikan oleh pengguna Python, selain dari library bawaan (built-in) yang dimilikinya. Untuk membuat library yang didefinisikan oleh pengguna umumnya dilakukan dengan menggunakan teknik pemrograman berorientasi obyek (object oriented programming).\n",
    "\n",
    "Tentunya secara dasar, Python tidak dapat digunakan untuk pengolahan data, komputasi saintifik, machine learning dan bahkan sistem cerdas. Melalui pengembang library tentunya aku memiliki akses ke keperluan atau bidang tersebut. Library ini dapat diinstal melalui command pip yang bersumber dari web python package index.\n",
    "\n",
    "Bagi yang pernah menggunakan Matlab pasti tahu ada toolbox tertentu misal untuk optimasi, pengolahan sinyal, dll. Jadi, toolbox di Matlab itu ekuivalen dengan library pada Python. Bahasa pemrograman lain seperti R, PHP, GO, Java, dsb tentu juga memiliki hal yang serupa.\n",
    "\n",
    "Untuk memanggil library pada python, aku dapat menggunakan syntax:\n",
    "\n",
    "    import \n",
    "\n",
    "Python adalah salah satu bahasa yang paling diminati untuk pengolahan data secara matematis. Untuk menggunakan fungsi-fungsi matematis yang telah disediakan oleh bahasa Python, aku dapat melakukan proses import library math seperti pada potongan kode berikut:\n",
    "\n",
    "    import math"
   ]
  },
  {
   "cell_type": "markdown",
   "id": "4a93b149",
   "metadata": {},
   "source": [
    "### Fungsi dalam Library Matematika - Part 1\n",
    "Beberapa fungsi dan kegunaannya.\n",
    "1. **math.ceil()** : Menerima input berupa bilangan dan mengembalikan pembulatan ke atas untuk bilangan input.\n",
    "2. **math.floor()** : Menerima input berupa bilangan dan mengembalikan hasil pembulatan ke bawah untuk bilangan input.\n",
    "3. **math.fabs()** : Menerima input berupa bilangan dan mengembalikan hasil absolut dari bilangan input.\n",
    "4. **math.factorial()** : Menerima input berupa bilangan dan mengembalikan hasil faktorial dari bilangan input\n",
    "5. **math.fsum()** : Menerima input berupa tipe data collection (tuple, list, etc.) dan mengembalikan hasil penjumlahan setiap elemennya."
   ]
  },
  {
   "cell_type": "code",
   "execution_count": 47,
   "id": "4d6854fa",
   "metadata": {},
   "outputs": [
    {
     "name": "stdout",
     "output_type": "stream",
     "text": [
      ">>> Fungsi math.ceil()\n",
      "11\n",
      "14\n",
      ">>> Fungsi math.floor()\n",
      "10\n",
      "13\n",
      ">>> Fungsi math.fabs()\n",
      "10.32\n",
      "13.87\n",
      ">>> Fungsi math.factorial()\n",
      "120\n",
      ">>> Fungsi math.fsum()\n",
      "6.0\n"
     ]
    }
   ],
   "source": [
    "# Import library math\n",
    "import math\n",
    "# Fungsi math.ceil()\n",
    "print(\">>> Fungsi math.ceil()\")\n",
    "x = 10.32\n",
    "y = 13.87\n",
    "x_ceil = math.ceil(x)\n",
    "y_ceil = math.ceil(y)\n",
    "print(x_ceil)\n",
    "print(y_ceil)\n",
    "# Fungsi math.floor()\n",
    "print(\">>> Fungsi math.floor()\")\n",
    "x_floor = math.floor(x)\n",
    "y_floor = math.floor(y)\n",
    "print(x_floor)\n",
    "print(y_floor)\n",
    "# Fungsi math.fabs()\n",
    "print(\">>> Fungsi math.fabs()\")\n",
    "x = 10.32\n",
    "y = -13.87\n",
    "x = math.fabs(x)\n",
    "y = math.fabs(y)\n",
    "print(x)\n",
    "print(y)\n",
    "# Fungsi math.factorial()\n",
    "print(\">>> Fungsi math.factorial()\")\n",
    "x_factorial = math.factorial(5)\n",
    "print(x_factorial)\n",
    "# Fungsi math.fsum()\n",
    "print(\">>> Fungsi math.fsum()\")\n",
    "x = [1, 2, 3, 4, 5, 6, -6, -5, -4]\n",
    "total = math.fsum(x)\n",
    "print(total)"
   ]
  },
  {
   "cell_type": "markdown",
   "id": "c5035162",
   "metadata": {},
   "source": [
    "### Fungsi dalam Library Matematika - Part 2\n",
    "Beberapa fungsi dan kegunaannya.\n",
    "1. **math.log()** : Menerima input berupa dua buah bilangan (asumsikan x dan y) dan mengembalikan sebuah bilangan (z) di mana z merupakan hasil log basis y dari x (atau dengan kata lain x merupakan hasil pemangkatan dari z terhadap y)\n",
    "2. **math.sqrt()** : Menerima input berupa sebuah bilangan dan mengembalikan hasil akar pangkat dua (akar kuadrat) dari bilangan tersebut\n",
    "3. **math.copysign()** : Menerima input berupa dua buah bilangan dan mengembalikan tanda bilangan pertama yang dikalikan dengan tanda positif/ negatif dari bilangan kedua"
   ]
  },
  {
   "cell_type": "code",
   "execution_count": 48,
   "id": "47b42b07",
   "metadata": {},
   "outputs": [
    {
     "name": "stdout",
     "output_type": "stream",
     "text": [
      ">>> Fungsi math.log()\n",
      "3.0\n",
      "4.0\n",
      "4.0\n",
      ">>> Fungsi math.sqrt()\n",
      "10.0\n",
      "1.4142135623730951\n",
      ">>> Fungsi math.copysign()\n",
      "-10.32\n",
      "-13.87\n",
      "15.0\n"
     ]
    }
   ],
   "source": [
    "# Import library math\n",
    "import math\n",
    "# Fungsi math.log()\n",
    "print(\">>> Fungsi math.log()\")\n",
    "# x = log basis 2 dari 8\n",
    "x = math.log(8, 2)\n",
    "# y = log basis 3 dari 81\n",
    "y = math.log(81, 3)\n",
    "# z = log basis 10 dari 10000\n",
    "z = math.log(10000, 10)\n",
    "print(x)\n",
    "print(y)\n",
    "print(z)\n",
    "# Fungsi math.sqrt()\n",
    "print(\">>> Fungsi math.sqrt()\")\n",
    "# akar kuadrat dari 100\n",
    "x = math.sqrt(100)\n",
    "print(x)\n",
    "# akar kuadrat dari 2\n",
    "y = math.sqrt(2)\n",
    "print(y)\n",
    "# Fungsi math.copysign()\n",
    "print(\">>> Fungsi math.copysign()\")\n",
    "x = 10.32\n",
    "y = -13.87\n",
    "z = -15\n",
    "x = math.copysign(x, z)\n",
    "y = math.copysign(y, z)\n",
    "z = math.copysign(z, 10)\n",
    "print(x)\n",
    "print(y)\n",
    "print(z)"
   ]
  },
  {
   "cell_type": "markdown",
   "id": "9a35d5f4",
   "metadata": {},
   "source": [
    "## [Mini Quiz] : Harga Rumah di Tangerang"
   ]
  },
  {
   "cell_type": "markdown",
   "id": "604ea886",
   "metadata": {},
   "source": [
    "“Terima kasih, Aksara! Akhirnya kelar juga pekerjaan kemarin. Masih semangat, kan? Belum kapok kalau ada proyek baru datang lagi? Hahaha,” goda Senja.\n",
    "\n",
    "“Asalkan ada bonus, maju terus,” candaku.\n",
    "\n",
    "“Oke, kali ini serius. Kita diminta untuk mengembangkan model prediksi harga rumah di di Tangerang berdasarkan luas tanah, luas bangunan serta kedekatan lokasi dengan pusat kota. Untuk mengembangkan model prediksi ini, saya telah mengumpulkan beberapa data yang diperlukan. Coba kamu lihat,” jelas Senja\n",
    "\n",
    "Aku pun segera menempatkan data tersebut ke dalam file harga_rumah.txt seperti berikut ini:"
   ]
  },
  {
   "cell_type": "code",
   "execution_count": 49,
   "id": "d67505f3",
   "metadata": {},
   "outputs": [
    {
     "name": "stdout",
     "output_type": "stream",
     "text": [
      "tanah,bangunan,jarak_ke_pusat,harga\n",
      "70,50,15,500\n",
      "70,60,30,400\n",
      "70,60,55,300\n",
      "100,50,30,700\n",
      "100,70,25,1000\n",
      "100,70,50,650\n",
      "120,100,20,2000\n",
      "120,80,50,1200\n",
      "150,100,50,1800\n",
      "150,90,15,3000\n"
     ]
    }
   ],
   "source": [
    "# membaca file harga_rumah.txt\n",
    "rumah = open('harga_rumah.txt','r')\n",
    "harga_rumah = rumah.read()\n",
    "rumah.close()\n",
    "print(harga_rumah)"
   ]
  },
  {
   "cell_type": "markdown",
   "id": "5c87bd89",
   "metadata": {},
   "source": [
    "### Tahap 1\n",
    "Aku pun melanjutkan prosesnya dengan membaca file harga_rumah.txt dan merepresentasikan setiap data ke dalam tipe data dictionary dan menampung keseluruhan data dalam sebuah list bernama harga_rumah.\n",
    "\n",
    "Setelah selesai memasukkan data dan menemukan jika nilai dari setiap atribut (tanah, bangunan, jarak_ke_pusat) tidak setara, aku mulai agak bingung. Tapi, harus tenang dan jangan panik!\n",
    "\n",
    "Aku kembali mengecekanya dan memutuskan utnuk melakukan proses transformasi data. Transformasi data dilakukan dengan mengurangi setiap nilai atribut dalam data dengan nilai atribut minimum dan membaginya dengan nilai atribut maksimum yang dikurangi dengan nilai atribut minimum, seperti ini:\n",
    "1. Untuk atribut tanah, nilai maksimum adalah 150 dan nilai minimum adalah 70.\n",
    "2. Saat nilai atribut tanah 100, proses transformasi akan mengubah nilai atribut ini menjadi 0,375\n",
    "\n",
    "nilai_transformasi = 100 - 70 / (150 - 70)"
   ]
  },
  {
   "cell_type": "code",
   "execution_count": 50,
   "id": "f13c7fa1",
   "metadata": {},
   "outputs": [
    {
     "name": "stdout",
     "output_type": "stream",
     "text": [
      "[{'tanah': '70', 'bangunan': '50', 'jarak_ke_pusat': '15', 'harga': '500'}, {'tanah': '70', 'bangunan': '60', 'jarak_ke_pusat': '30', 'harga': '400'}, {'tanah': '70', 'bangunan': '60', 'jarak_ke_pusat': '55', 'harga': '300'}, {'tanah': '100', 'bangunan': '50', 'jarak_ke_pusat': '30', 'harga': '700'}, {'tanah': '100', 'bangunan': '70', 'jarak_ke_pusat': '25', 'harga': '1000'}, {'tanah': '100', 'bangunan': '70', 'jarak_ke_pusat': '50', 'harga': '650'}, {'tanah': '120', 'bangunan': '100', 'jarak_ke_pusat': '20', 'harga': '2000'}, {'tanah': '120', 'bangunan': '80', 'jarak_ke_pusat': '50', 'harga': '1200'}, {'tanah': '150', 'bangunan': '100', 'jarak_ke_pusat': '50', 'harga': '1800'}, {'tanah': '150', 'bangunan': '90', 'jarak_ke_pusat': '15', 'harga': '3000'}]\n"
     ]
    }
   ],
   "source": [
    "import requests\n",
    "from contextlib import closing\n",
    "import csv\n",
    "# STEP 1: \n",
    "# Baca file \"harga_rumah.txt\"\n",
    "url = \"https://storage.googleapis.com/dqlab-dataset/harga_rumah.txt\"\n",
    "data_harga_rumah = []\n",
    "with closing(requests.get(url, stream=True)) as r:\n",
    "    f = (line.decode('utf-8') for line in r.iter_lines())\n",
    "    data_harga_rumah = [row for row in csv.reader(f)]\n",
    "# Buat list of dict dengan nama harga rumah\n",
    "key_harga_rumah = data_harga_rumah[0]\n",
    "harga_rumah = []\n",
    "for baris_harga_rumah in data_harga_rumah[1:]:\n",
    "\tdict_harga_rumah = dict()\n",
    "\tfor i in range(len(baris_harga_rumah)):\n",
    "\t\tdict_harga_rumah[key_harga_rumah[i]] = baris_harga_rumah[i]\n",
    "\tharga_rumah.append(dict_harga_rumah)\n",
    "print(harga_rumah)"
   ]
  },
  {
   "cell_type": "markdown",
   "id": "d4bc060f",
   "metadata": {},
   "source": [
    "### Tahap 2\n",
    "Mula-mula,  aku akan membuat sebuah fungsi bernama **get_all_specified_attribute** yang menerima parameter **list_of_dictionary** (tipe data list yang berisikan sekumpulan tipe data dictionary) dan **specified_key** (tipe data string). Fungsi akan mengembalikan sebuah list yang berisikan seluruh atribut dengan kunci (key) specified_key."
   ]
  },
  {
   "cell_type": "code",
   "execution_count": 51,
   "id": "391662ee",
   "metadata": {},
   "outputs": [],
   "source": [
    "# STEP 2:\n",
    "# Buat fungsi  get_all_specified_attribute yang menerima parameter list_of_dictionary \n",
    "# (tipe data list yang berisikan sekumpulan tipe data dictionary) dan specified_key \n",
    "# (tipe data string). Fungsi akan mengembalikan sebuah list yang berisikan seluruh \n",
    "# atribut dengan kunci (key) specified_key. \n",
    "def get_all_specified_attributes(list_of_dictionary, specified_key):\n",
    "\tlist_attributes = []\n",
    "\tfor data in list_of_dictionary:\n",
    "\t\tattribute = data[specified_key]\n",
    "\t\tlist_attributes.append(attribute)\n",
    "\treturn list_attributes"
   ]
  },
  {
   "cell_type": "markdown",
   "id": "1aced8de",
   "metadata": {},
   "source": [
    "### Tahap 3\n",
    "Kemudian, setelah berhasil membuat fungsi  tersebut, aku juga membuat fungsi **min_value** yang menerima parameter list_attributes (berupa tipe data list) dan mengembalikan nilai terkecil dalam list_attributes dan **max_value** yang menerima parameter list_attributes dan mengembalikan nilai terbesar dalam list_attributes."
   ]
  },
  {
   "cell_type": "code",
   "execution_count": 52,
   "id": "4e83a1d7",
   "metadata": {},
   "outputs": [],
   "source": [
    "# STEP 3: \n",
    "# Buat fungsi fungsi min_value yang menerima parameter list_attributes (berupa \n",
    "# tipe data list) dan mengembalikan nilai terkecil dalam list_attributes \n",
    "def min_value(list_attributes):\n",
    "\tmin_attribute = 9999\n",
    "\tfor attr in list_attributes:\n",
    "\t\tif int(attr) < min_attribute:\n",
    "\t\t\tmin_attribute = int(attr)\n",
    "\treturn min_attribute\n",
    "# Buat fungsi dan max_value yang menerima parameter list_attribute dan \n",
    "# mengembalikan nilai terbesar dalam list_attributes.\t\n",
    "def max_value(list_attributes):\n",
    "\tmax_attribute = -9999\n",
    "\tfor attr in list_attributes:\n",
    "\t\tif int(attr) > max_attribute:\n",
    "\t\t\tmax_attribute = int(attr)\n",
    "\treturn max_attribute"
   ]
  },
  {
   "cell_type": "markdown",
   "id": "0744165b",
   "metadata": {},
   "source": [
    "### Tahap 4\n",
    "Selanjutnya aku membuat fungsi **transform_attribute** yang menerima parameter attr (sebuah bilangan), max_attr (sebuah bilangan) dan min_attr (sebuah bilangan) yang mengembalikan nilai transformasi dari sebuah attribute."
   ]
  },
  {
   "cell_type": "code",
   "execution_count": 53,
   "id": "fb42aa4c",
   "metadata": {},
   "outputs": [],
   "source": [
    "# STEP 4: \n",
    "# Buat fungsi transform_attribute yang menerima parameter attr (sebuah \n",
    "# bilangan), max_attr (sebuah bilangan) dan min_attr (sebuah bilangan) \n",
    "# yang mengembalikan nilai transformasi dari sebuah attribute.\n",
    "def transform_attribute(attr, max_attr, min_attr):\n",
    "\tnilai_transformasi = (attr - min_attr) / (max_attr - min_attr)\n",
    "\treturn nilai_transformasi"
   ]
  },
  {
   "cell_type": "markdown",
   "id": "f498b256",
   "metadata": {},
   "source": [
    "### Tahap 5\n",
    "“Sudah cukup, Nja?” tanyaku saat Senja terdiam lama menelusuri hasil kerjaku.\n",
    "\n",
    "“Menurutku kita masih butuh fungsi baru yaitu **fungsi data_transformation** yang menerima parameter list_of_dictionary (sebuah list yang berisikan tipe data dictionary) dan list_attribute_names (sebuah list yang berisikan tipe data string) mengembalikan hasil transformasi data dari list_of_dictionary berdasarkan list_attribute_names telah dispesifikasikan."
   ]
  },
  {
   "cell_type": "code",
   "execution_count": 54,
   "id": "54efc896",
   "metadata": {},
   "outputs": [],
   "source": [
    "# STEP 5:\n",
    "# Buat fungsi data_transformation yang menerima parameter list_of_dictionary \n",
    "# (sebuah list yang berisikan tipe data dictionary) dan list_attribute_names \n",
    "# (sebuah list yang berisikan tipe data string) mengembalikan hasil \n",
    "# transformasi data dari list_of_dictionary berdasarkan list_attribute_names \n",
    "# dan attr_info telah dispesifikasikan.\n",
    "def data_transformation(list_of_dictionary, list_attribute_names):\n",
    "\tattr_info = {}\n",
    "\tfor attr_name in list_attribute_names:\n",
    "\t\tspecified_attributes = get_all_specified_attributes(list_of_dictionary, attr_name)\n",
    "\t\tmax_attr = max_value(specified_attributes)\n",
    "\t\tmin_attr = min_value(specified_attributes)\n",
    "\t\tattr_info[attr_name] = {'max': max_attr, 'min': min_attr}\n",
    "\t\tdata_idx = 0\n",
    "\t\twhile(data_idx < len(list_of_dictionary)):\n",
    "\t\t\tlist_of_dictionary[data_idx][attr_name] = transform_attribute(int(list_of_dictionary[data_idx][attr_name]), max_attr, min_attr)\n",
    "\t\t\tdata_idx += 1\n",
    "\treturn list_of_dictionary, attr_info"
   ]
  },
  {
   "cell_type": "markdown",
   "id": "d2dd98df",
   "metadata": {},
   "source": [
    "### Tahap 6\n",
    "Dari data baru dan attr_info ini, Senja menyuruhku membuat **fungsi transform_data** yang menerima parameter data dan attr_info dan mengembalikan nilai atribut dari data baru yang telah ditransformasikan."
   ]
  },
  {
   "cell_type": "code",
   "execution_count": 55,
   "id": "4f6fd4d0",
   "metadata": {},
   "outputs": [],
   "source": [
    "# STEP 6:\n",
    "# Berdasarkan data baru dan attr_info ini, buat fungsi transform_data yang\n",
    "# menerima parameter data dan attr_info dan mengembalikan nilai atribut \n",
    "# dari data baru yang telah ditransformasikan.\n",
    "def transform_data(data, attr_info):\n",
    "\tfor key_name in data.keys():\n",
    "\t\tdata[key_name] = (data[key_name] - attr_info[key_name]['min']) / (\n",
    "\t\t                  attr_info[key_name]['max'] - attr_info[key_name]['min'])\n",
    "\treturn data"
   ]
  },
  {
   "cell_type": "markdown",
   "id": "a4773e4e",
   "metadata": {},
   "source": [
    "### Tahap 7\n",
    "Setelah itu, Senja memintaku untuk membuat sistem prediksi harga berdasarkan nilai kemiripan atribut."
   ]
  },
  {
   "cell_type": "code",
   "execution_count": 56,
   "id": "67e2316c",
   "metadata": {},
   "outputs": [],
   "source": [
    "# STEP 7:\n",
    "# Buat fungsi yang digunakan untuk sistem prediksi harga berdasarkan \n",
    "# nilai kemiripan atribut, yaitu argument input data dan list_of_data!\n",
    "def abs_value(value):\n",
    "\tif value < 0:\n",
    "\t\treturn -value\n",
    "\telse:\n",
    "\t\treturn value\n",
    "def price_based_on_similarity(data, list_of_data):\n",
    "\tprediksi_harga = 0\n",
    "\tperbedaan_terkecil = 999\n",
    "\tfor data_point in list_of_data:\n",
    "\t\tperbedaan= abs_value(data['tanah'] - data_point['tanah'])\n",
    "\t\tperbedaan+= abs_value(data['bangunan'] - data_point['bangunan'])\n",
    "\t\tperbedaan+= abs_value(data['jarak_ke_pusat'] - data_point['jarak_ke_pusat'])\n",
    "\t\tif perbedaan < perbedaan_terkecil:\n",
    "\t\t\tprediksi_harga = data_point['harga']\n",
    "\t\t\tperbedaan_terkecil = perbedaan\n",
    "\treturn prediksi_harga"
   ]
  },
  {
   "cell_type": "markdown",
   "id": "4e05a5a5",
   "metadata": {},
   "source": [
    "### Tahap 8\n",
    "Dan aku menggunakan semua fungsi yang telah aku definisikan dari Step 1 s/d Step 7.\n",
    "1. Hitung harga rumah yang telah ditransformasikan ke dalam variabel harga_rumah berikut dengan atributnya attr_info\n",
    "2. Gunakan variabel data untuk memprediksi harga rumah\n",
    "\n",
    "        data = {'tanah': 110, 'bangunan': 80, 'jarak_ke_pusat': 35}\n",
    "\n",
    "3. Transformasikan data tersebut dengan dengan menggunakan attr_info yang telah diperoleh yang kembali disimpan ke variabel data.\n",
    "4. Hitunglah prediksi harga dari variabel data tersebut."
   ]
  },
  {
   "cell_type": "code",
   "execution_count": 57,
   "id": "9ac93058",
   "metadata": {},
   "outputs": [
    {
     "name": "stdout",
     "output_type": "stream",
     "text": [
      "Prediksi harga rumah:  1200\n"
     ]
    }
   ],
   "source": [
    "# STEP 8:\n",
    "# Hitung harga rumah yang telah ditransformasikan ke dalam variabel \n",
    "# harga_rumah berikut dengan atributnya attr_info\n",
    "harga_rumah, attr_info = data_transformation(harga_rumah,\n",
    "                                             ['tanah','bangunan','jarak_ke_pusat'])\n",
    "# Gunakan variabel data untuk memprediksi harga rumah\n",
    "data = {'tanah': 110, 'bangunan': 80, 'jarak_ke_pusat': 35}\n",
    "# Transformasikan data tersebut dengan dengan menggunakan attr_info yang telah \n",
    "# diperoleh yang kembali disimpan ke variabel data.\n",
    "data = transform_data(data, attr_info)\n",
    "# Hitunglah prediksi harga dari variabel data tersebut.\n",
    "harga = price_based_on_similarity(data, harga_rumah)\n",
    "print(\"Prediksi harga rumah: \", harga)"
   ]
  },
  {
   "cell_type": "markdown",
   "id": "88ea9677",
   "metadata": {},
   "source": [
    "## Hasil Belajarku\n",
    "Tidak terasa, aku berhasil menyelesaikan modul Python for Data Professional Beginner - Part 2. Dari materi yang telah aku pelajari dan praktekkan dalam module ini, aku telah mampu:\n",
    "1. Memahami & mempraktikkan penggunaan collection manipulations (list, tuple, set dan dictionary) pada Python.\n",
    "2. Memahami & mempraktikkan penggunaan string manipulation pada Python.\n",
    "3. Memahami & mempraktikkan pembuatan fungsi yang didefinisikan sendiri untuk kebutuhan tertentu dengan menggunakan Python.\n",
    "4. Memahami & mempraktikkan cara membaca data dari file menggunakan Python\n",
    "5. Mengerjakan latihan dalam membuat program Python untuk penyelesaian kasus bisnis sederhana."
   ]
  }
 ],
 "metadata": {
  "kernelspec": {
   "display_name": "Python 3 (ipykernel)",
   "language": "python",
   "name": "python3"
  },
  "language_info": {
   "codemirror_mode": {
    "name": "ipython",
    "version": 3
   },
   "file_extension": ".py",
   "mimetype": "text/x-python",
   "name": "python",
   "nbconvert_exporter": "python",
   "pygments_lexer": "ipython3",
   "version": "3.9.7"
  }
 },
 "nbformat": 4,
 "nbformat_minor": 5
}
